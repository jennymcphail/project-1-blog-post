{
 "cells": [
  {
   "cell_type": "markdown",
   "id": "ab0e5d47",
   "metadata": {},
   "source": [
    "### Nano Degree\n",
    "## Project 1 - Blog Post"
   ]
  },
  {
   "cell_type": "markdown",
   "id": "c21998b7",
   "metadata": {},
   "source": [
    "Putting the packages import cell first, you can see that I had some trouble with a couple of the ones I wanted to use due to using a corporate environment where the packages aren't fully up to date.<br>\n",
    "I do have the ability to update but I am going to hold off until I can check that it won't impact my ability to use our spark cluster!"
   ]
  },
  {
   "cell_type": "code",
   "execution_count": 1,
   "id": "1cb2c3a9",
   "metadata": {},
   "outputs": [],
   "source": [
    "# importing some packages for EDA and modelling\n",
    "import pandas as pd\n",
    "from matplotlib import pyplot as plt\n",
    "import numpy as np\n",
    "import scipy.stats as stats\n",
    "from sklearn.model_selection import train_test_split\n",
    "from sklearn.tree import DecisionTreeRegressor\n",
    "from sklearn.metrics import mean_squared_error\n",
    "#from sklearn.metrics import mean_absolute_percentage_error - can't use this as our version of sklearn isn't new enough? define own instead\n",
    "from sklearn.metrics import mean_absolute_error\n",
    "from sklearn.metrics import median_absolute_error\n",
    "import geopandas as gpd\n",
    "#import geoplot as gplt - get errors when I try this, due to python version 3.6 - is it safe to upgrade to 3.7 or will that break my spark?"
   ]
  },
  {
   "cell_type": "code",
   "execution_count": null,
   "id": "3f441247",
   "metadata": {},
   "outputs": [],
   "source": [
    "# defining useful functions\n",
    "\n",
    "# can't use sklearn mean_absolute_percentage_error so have to define own\n",
    "def mape(a, b): \n",
    "    \"\"\"If you can't use latest version of sklearn which has an inbuilt Mean Absolute Percentage Error,\n",
    "    then this function calculates it for you. It can handle where divisor is 0 and ignore these.\n",
    "    Inputs: a,b where a is the actual values and b is the predictions\n",
    "    Outputs: Mean Absolute Percentage Error as an integer\"\"\"\n",
    "    mask = a != 0\n",
    "    return np.mean(np.abs((a - b) / a)[mask]) * 100"
   ]
  },
  {
   "cell_type": "markdown",
   "id": "1de19e46",
   "metadata": {},
   "source": [
    "Let's find out what AirBnB data shows about my city of birth, Edinburgh!<br>\n",
    "The first stage is to import the data, eyeball it and think about what questions I might want to use it to answer.<br>\n",
    "\n",
    "### Data Understanding 1.1 - read in files"
   ]
  },
  {
   "cell_type": "code",
   "execution_count": 2,
   "id": "4594482e",
   "metadata": {},
   "outputs": [],
   "source": [
    "## these files are the summary files - where there were two files with the same name, I added \"1\" suffix to the summary versions\n",
    "df_listings1 = pd.read_csv('listings1.csv')\n",
    "df_neighbourhoods = pd.read_csv('neighbourhoods1.csv')\n",
    "df_reviews1 = pd.read_csv('reviews1.csv')\n",
    "\n",
    "## these files are the detailed files, I unzipped them first in Linux command line (see README)\n",
    "df_cal = pd.read_csv('calendar.csv')\n",
    "df_listings = pd.read_csv('listings.csv')\n",
    "df_reviews = pd.read_csv('reviews.csv')"
   ]
  },
  {
   "cell_type": "markdown",
   "id": "4601e832",
   "metadata": {},
   "source": [
    "### Data Understanding 1.2 - use head() to view the top 5 rows of each file and describe() to get summary statistics"
   ]
  },
  {
   "cell_type": "code",
   "execution_count": 2,
   "id": "8e5c7b76",
   "metadata": {},
   "outputs": [
    {
     "data": {
      "text/html": [
       "<div>\n",
       "<style scoped>\n",
       "    .dataframe tbody tr th:only-of-type {\n",
       "        vertical-align: middle;\n",
       "    }\n",
       "\n",
       "    .dataframe tbody tr th {\n",
       "        vertical-align: top;\n",
       "    }\n",
       "\n",
       "    .dataframe thead th {\n",
       "        text-align: right;\n",
       "    }\n",
       "</style>\n",
       "<table border=\"1\" class=\"dataframe\">\n",
       "  <thead>\n",
       "    <tr style=\"text-align: right;\">\n",
       "      <th></th>\n",
       "      <th>id</th>\n",
       "      <th>name</th>\n",
       "      <th>host_id</th>\n",
       "      <th>host_name</th>\n",
       "      <th>neighbourhood_group</th>\n",
       "      <th>neighbourhood</th>\n",
       "      <th>latitude</th>\n",
       "      <th>longitude</th>\n",
       "      <th>room_type</th>\n",
       "      <th>price</th>\n",
       "      <th>minimum_nights</th>\n",
       "      <th>number_of_reviews</th>\n",
       "      <th>last_review</th>\n",
       "      <th>reviews_per_month</th>\n",
       "      <th>calculated_host_listings_count</th>\n",
       "      <th>availability_365</th>\n",
       "    </tr>\n",
       "  </thead>\n",
       "  <tbody>\n",
       "    <tr>\n",
       "      <th>0</th>\n",
       "      <td>15420</td>\n",
       "      <td>Georgian Boutique Apt City Centre</td>\n",
       "      <td>60423</td>\n",
       "      <td>Charlotte</td>\n",
       "      <td>NaN</td>\n",
       "      <td>Old Town, Princes Street and Leith Street</td>\n",
       "      <td>55.95759</td>\n",
       "      <td>-3.18805</td>\n",
       "      <td>Entire home/apt</td>\n",
       "      <td>100</td>\n",
       "      <td>3</td>\n",
       "      <td>345</td>\n",
       "      <td>2020-08-28</td>\n",
       "      <td>5.35</td>\n",
       "      <td>1</td>\n",
       "      <td>151</td>\n",
       "    </tr>\n",
       "    <tr>\n",
       "      <th>1</th>\n",
       "      <td>24288</td>\n",
       "      <td>Cool central Loft, sleeps 4, 2 double bed+en-s...</td>\n",
       "      <td>46498</td>\n",
       "      <td>Gordon</td>\n",
       "      <td>NaN</td>\n",
       "      <td>Canongate, Southside and Dumbiedykes</td>\n",
       "      <td>55.94383</td>\n",
       "      <td>-3.18445</td>\n",
       "      <td>Entire home/apt</td>\n",
       "      <td>95</td>\n",
       "      <td>3</td>\n",
       "      <td>219</td>\n",
       "      <td>2019-09-08</td>\n",
       "      <td>1.95</td>\n",
       "      <td>1</td>\n",
       "      <td>25</td>\n",
       "    </tr>\n",
       "    <tr>\n",
       "      <th>2</th>\n",
       "      <td>38628</td>\n",
       "      <td>Edinburgh Holiday Let</td>\n",
       "      <td>165635</td>\n",
       "      <td>Trish</td>\n",
       "      <td>NaN</td>\n",
       "      <td>Joppa</td>\n",
       "      <td>55.94215</td>\n",
       "      <td>-3.09640</td>\n",
       "      <td>Entire home/apt</td>\n",
       "      <td>55</td>\n",
       "      <td>4</td>\n",
       "      <td>57</td>\n",
       "      <td>2018-08-27</td>\n",
       "      <td>0.98</td>\n",
       "      <td>2</td>\n",
       "      <td>298</td>\n",
       "    </tr>\n",
       "    <tr>\n",
       "      <th>3</th>\n",
       "      <td>44009</td>\n",
       "      <td>Very Spacious, Well Lit, Double Room, Very Cen...</td>\n",
       "      <td>192586</td>\n",
       "      <td>Puneet</td>\n",
       "      <td>NaN</td>\n",
       "      <td>Marchmont West</td>\n",
       "      <td>55.93800</td>\n",
       "      <td>-3.19468</td>\n",
       "      <td>Private room</td>\n",
       "      <td>45</td>\n",
       "      <td>2</td>\n",
       "      <td>38</td>\n",
       "      <td>2013-07-22</td>\n",
       "      <td>0.29</td>\n",
       "      <td>1</td>\n",
       "      <td>87</td>\n",
       "    </tr>\n",
       "    <tr>\n",
       "      <th>4</th>\n",
       "      <td>44552</td>\n",
       "      <td>Double room - spacious Leith flat</td>\n",
       "      <td>195950</td>\n",
       "      <td>Shaun</td>\n",
       "      <td>NaN</td>\n",
       "      <td>South Leith</td>\n",
       "      <td>55.96612</td>\n",
       "      <td>-3.17184</td>\n",
       "      <td>Private room</td>\n",
       "      <td>31</td>\n",
       "      <td>2</td>\n",
       "      <td>200</td>\n",
       "      <td>2019-09-12</td>\n",
       "      <td>1.68</td>\n",
       "      <td>2</td>\n",
       "      <td>75</td>\n",
       "    </tr>\n",
       "  </tbody>\n",
       "</table>\n",
       "</div>"
      ],
      "text/plain": [
       "      id                                               name  host_id  \\\n",
       "0  15420                  Georgian Boutique Apt City Centre    60423   \n",
       "1  24288  Cool central Loft, sleeps 4, 2 double bed+en-s...    46498   \n",
       "2  38628                              Edinburgh Holiday Let   165635   \n",
       "3  44009  Very Spacious, Well Lit, Double Room, Very Cen...   192586   \n",
       "4  44552                  Double room - spacious Leith flat   195950   \n",
       "\n",
       "   host_name  neighbourhood_group                              neighbourhood  \\\n",
       "0  Charlotte                  NaN  Old Town, Princes Street and Leith Street   \n",
       "1     Gordon                  NaN       Canongate, Southside and Dumbiedykes   \n",
       "2      Trish                  NaN                                      Joppa   \n",
       "3     Puneet                  NaN                             Marchmont West   \n",
       "4      Shaun                  NaN                                South Leith   \n",
       "\n",
       "   latitude  longitude        room_type  price  minimum_nights  \\\n",
       "0  55.95759   -3.18805  Entire home/apt    100               3   \n",
       "1  55.94383   -3.18445  Entire home/apt     95               3   \n",
       "2  55.94215   -3.09640  Entire home/apt     55               4   \n",
       "3  55.93800   -3.19468     Private room     45               2   \n",
       "4  55.96612   -3.17184     Private room     31               2   \n",
       "\n",
       "   number_of_reviews last_review  reviews_per_month  \\\n",
       "0                345  2020-08-28               5.35   \n",
       "1                219  2019-09-08               1.95   \n",
       "2                 57  2018-08-27               0.98   \n",
       "3                 38  2013-07-22               0.29   \n",
       "4                200  2019-09-12               1.68   \n",
       "\n",
       "   calculated_host_listings_count  availability_365  \n",
       "0                               1               151  \n",
       "1                               1                25  \n",
       "2                               2               298  \n",
       "3                               1                87  \n",
       "4                               2                75  "
      ]
     },
     "execution_count": 2,
     "metadata": {},
     "output_type": "execute_result"
    }
   ],
   "source": [
    "df_listings1.head()"
   ]
  },
  {
   "cell_type": "code",
   "execution_count": 3,
   "id": "0f6ce413",
   "metadata": {},
   "outputs": [
    {
     "data": {
      "text/html": [
       "<div>\n",
       "<style scoped>\n",
       "    .dataframe tbody tr th:only-of-type {\n",
       "        vertical-align: middle;\n",
       "    }\n",
       "\n",
       "    .dataframe tbody tr th {\n",
       "        vertical-align: top;\n",
       "    }\n",
       "\n",
       "    .dataframe thead th {\n",
       "        text-align: right;\n",
       "    }\n",
       "</style>\n",
       "<table border=\"1\" class=\"dataframe\">\n",
       "  <thead>\n",
       "    <tr style=\"text-align: right;\">\n",
       "      <th></th>\n",
       "      <th>neighbourhood_group</th>\n",
       "      <th>neighbourhood</th>\n",
       "    </tr>\n",
       "  </thead>\n",
       "  <tbody>\n",
       "    <tr>\n",
       "      <th>0</th>\n",
       "      <td>NaN</td>\n",
       "      <td>Abbeyhill</td>\n",
       "    </tr>\n",
       "    <tr>\n",
       "      <th>1</th>\n",
       "      <td>NaN</td>\n",
       "      <td>Baberton and Juniper Green</td>\n",
       "    </tr>\n",
       "    <tr>\n",
       "      <th>2</th>\n",
       "      <td>NaN</td>\n",
       "      <td>Balerno and Bonnington Village</td>\n",
       "    </tr>\n",
       "    <tr>\n",
       "      <th>3</th>\n",
       "      <td>NaN</td>\n",
       "      <td>Balgreen and Roseburn</td>\n",
       "    </tr>\n",
       "    <tr>\n",
       "      <th>4</th>\n",
       "      <td>NaN</td>\n",
       "      <td>Barnton, Cammo and Cramond South</td>\n",
       "    </tr>\n",
       "  </tbody>\n",
       "</table>\n",
       "</div>"
      ],
      "text/plain": [
       "   neighbourhood_group                     neighbourhood\n",
       "0                  NaN                         Abbeyhill\n",
       "1                  NaN        Baberton and Juniper Green\n",
       "2                  NaN    Balerno and Bonnington Village\n",
       "3                  NaN             Balgreen and Roseburn\n",
       "4                  NaN  Barnton, Cammo and Cramond South"
      ]
     },
     "execution_count": 3,
     "metadata": {},
     "output_type": "execute_result"
    }
   ],
   "source": [
    "df_neighbourhoods.head()"
   ]
  },
  {
   "cell_type": "code",
   "execution_count": 4,
   "id": "841f4672",
   "metadata": {},
   "outputs": [
    {
     "data": {
      "text/html": [
       "<div>\n",
       "<style scoped>\n",
       "    .dataframe tbody tr th:only-of-type {\n",
       "        vertical-align: middle;\n",
       "    }\n",
       "\n",
       "    .dataframe tbody tr th {\n",
       "        vertical-align: top;\n",
       "    }\n",
       "\n",
       "    .dataframe thead th {\n",
       "        text-align: right;\n",
       "    }\n",
       "</style>\n",
       "<table border=\"1\" class=\"dataframe\">\n",
       "  <thead>\n",
       "    <tr style=\"text-align: right;\">\n",
       "      <th></th>\n",
       "      <th>neighbourhood_group</th>\n",
       "      <th>neighbourhood</th>\n",
       "    </tr>\n",
       "  </thead>\n",
       "  <tbody>\n",
       "    <tr>\n",
       "      <th>count</th>\n",
       "      <td>0.0</td>\n",
       "      <td>111</td>\n",
       "    </tr>\n",
       "    <tr>\n",
       "      <th>unique</th>\n",
       "      <td>NaN</td>\n",
       "      <td>111</td>\n",
       "    </tr>\n",
       "    <tr>\n",
       "      <th>top</th>\n",
       "      <td>NaN</td>\n",
       "      <td>Barnton, Cammo and Cramond South</td>\n",
       "    </tr>\n",
       "    <tr>\n",
       "      <th>freq</th>\n",
       "      <td>NaN</td>\n",
       "      <td>1</td>\n",
       "    </tr>\n",
       "    <tr>\n",
       "      <th>mean</th>\n",
       "      <td>NaN</td>\n",
       "      <td>NaN</td>\n",
       "    </tr>\n",
       "    <tr>\n",
       "      <th>std</th>\n",
       "      <td>NaN</td>\n",
       "      <td>NaN</td>\n",
       "    </tr>\n",
       "    <tr>\n",
       "      <th>min</th>\n",
       "      <td>NaN</td>\n",
       "      <td>NaN</td>\n",
       "    </tr>\n",
       "    <tr>\n",
       "      <th>25%</th>\n",
       "      <td>NaN</td>\n",
       "      <td>NaN</td>\n",
       "    </tr>\n",
       "    <tr>\n",
       "      <th>50%</th>\n",
       "      <td>NaN</td>\n",
       "      <td>NaN</td>\n",
       "    </tr>\n",
       "    <tr>\n",
       "      <th>75%</th>\n",
       "      <td>NaN</td>\n",
       "      <td>NaN</td>\n",
       "    </tr>\n",
       "    <tr>\n",
       "      <th>max</th>\n",
       "      <td>NaN</td>\n",
       "      <td>NaN</td>\n",
       "    </tr>\n",
       "  </tbody>\n",
       "</table>\n",
       "</div>"
      ],
      "text/plain": [
       "        neighbourhood_group                     neighbourhood\n",
       "count                   0.0                               111\n",
       "unique                  NaN                               111\n",
       "top                     NaN  Barnton, Cammo and Cramond South\n",
       "freq                    NaN                                 1\n",
       "mean                    NaN                               NaN\n",
       "std                     NaN                               NaN\n",
       "min                     NaN                               NaN\n",
       "25%                     NaN                               NaN\n",
       "50%                     NaN                               NaN\n",
       "75%                     NaN                               NaN\n",
       "max                     NaN                               NaN"
      ]
     },
     "execution_count": 4,
     "metadata": {},
     "output_type": "execute_result"
    }
   ],
   "source": [
    "df_neighbourhoods.describe(include='all') # doesn't look like this adds any value as all of neighbourhood_group is missing values"
   ]
  },
  {
   "cell_type": "code",
   "execution_count": 4,
   "id": "51406c5b",
   "metadata": {},
   "outputs": [
    {
     "data": {
      "text/html": [
       "<div>\n",
       "<style scoped>\n",
       "    .dataframe tbody tr th:only-of-type {\n",
       "        vertical-align: middle;\n",
       "    }\n",
       "\n",
       "    .dataframe tbody tr th {\n",
       "        vertical-align: top;\n",
       "    }\n",
       "\n",
       "    .dataframe thead th {\n",
       "        text-align: right;\n",
       "    }\n",
       "</style>\n",
       "<table border=\"1\" class=\"dataframe\">\n",
       "  <thead>\n",
       "    <tr style=\"text-align: right;\">\n",
       "      <th></th>\n",
       "      <th>listing_id</th>\n",
       "      <th>date</th>\n",
       "    </tr>\n",
       "  </thead>\n",
       "  <tbody>\n",
       "    <tr>\n",
       "      <th>0</th>\n",
       "      <td>15420</td>\n",
       "      <td>2011-01-18</td>\n",
       "    </tr>\n",
       "    <tr>\n",
       "      <th>1</th>\n",
       "      <td>15420</td>\n",
       "      <td>2011-01-31</td>\n",
       "    </tr>\n",
       "    <tr>\n",
       "      <th>2</th>\n",
       "      <td>15420</td>\n",
       "      <td>2011-04-19</td>\n",
       "    </tr>\n",
       "    <tr>\n",
       "      <th>3</th>\n",
       "      <td>15420</td>\n",
       "      <td>2011-04-23</td>\n",
       "    </tr>\n",
       "    <tr>\n",
       "      <th>4</th>\n",
       "      <td>15420</td>\n",
       "      <td>2011-05-15</td>\n",
       "    </tr>\n",
       "  </tbody>\n",
       "</table>\n",
       "</div>"
      ],
      "text/plain": [
       "   listing_id        date\n",
       "0       15420  2011-01-18\n",
       "1       15420  2011-01-31\n",
       "2       15420  2011-04-19\n",
       "3       15420  2011-04-23\n",
       "4       15420  2011-05-15"
      ]
     },
     "execution_count": 4,
     "metadata": {},
     "output_type": "execute_result"
    }
   ],
   "source": [
    "df_reviews1.head()"
   ]
  },
  {
   "cell_type": "code",
   "execution_count": 5,
   "id": "e5a8b99f",
   "metadata": {},
   "outputs": [
    {
     "data": {
      "text/html": [
       "<div>\n",
       "<style scoped>\n",
       "    .dataframe tbody tr th:only-of-type {\n",
       "        vertical-align: middle;\n",
       "    }\n",
       "\n",
       "    .dataframe tbody tr th {\n",
       "        vertical-align: top;\n",
       "    }\n",
       "\n",
       "    .dataframe thead th {\n",
       "        text-align: right;\n",
       "    }\n",
       "</style>\n",
       "<table border=\"1\" class=\"dataframe\">\n",
       "  <thead>\n",
       "    <tr style=\"text-align: right;\">\n",
       "      <th></th>\n",
       "      <th>listing_id</th>\n",
       "      <th>date</th>\n",
       "      <th>available</th>\n",
       "      <th>price</th>\n",
       "      <th>adjusted_price</th>\n",
       "      <th>minimum_nights</th>\n",
       "      <th>maximum_nights</th>\n",
       "    </tr>\n",
       "  </thead>\n",
       "  <tbody>\n",
       "    <tr>\n",
       "      <th>0</th>\n",
       "      <td>2852317</td>\n",
       "      <td>2021-07-10</td>\n",
       "      <td>f</td>\n",
       "      <td>$40.00</td>\n",
       "      <td>$40.00</td>\n",
       "      <td>2</td>\n",
       "      <td>1125</td>\n",
       "    </tr>\n",
       "    <tr>\n",
       "      <th>1</th>\n",
       "      <td>170756</td>\n",
       "      <td>2021-07-10</td>\n",
       "      <td>f</td>\n",
       "      <td>$53.00</td>\n",
       "      <td>$53.00</td>\n",
       "      <td>2</td>\n",
       "      <td>180</td>\n",
       "    </tr>\n",
       "    <tr>\n",
       "      <th>2</th>\n",
       "      <td>170756</td>\n",
       "      <td>2021-07-11</td>\n",
       "      <td>f</td>\n",
       "      <td>$54.00</td>\n",
       "      <td>$54.00</td>\n",
       "      <td>1</td>\n",
       "      <td>180</td>\n",
       "    </tr>\n",
       "    <tr>\n",
       "      <th>3</th>\n",
       "      <td>170756</td>\n",
       "      <td>2021-07-12</td>\n",
       "      <td>f</td>\n",
       "      <td>$53.00</td>\n",
       "      <td>$53.00</td>\n",
       "      <td>1</td>\n",
       "      <td>180</td>\n",
       "    </tr>\n",
       "    <tr>\n",
       "      <th>4</th>\n",
       "      <td>170756</td>\n",
       "      <td>2021-07-13</td>\n",
       "      <td>f</td>\n",
       "      <td>$53.00</td>\n",
       "      <td>$53.00</td>\n",
       "      <td>1</td>\n",
       "      <td>180</td>\n",
       "    </tr>\n",
       "  </tbody>\n",
       "</table>\n",
       "</div>"
      ],
      "text/plain": [
       "   listing_id        date available   price adjusted_price  minimum_nights  \\\n",
       "0     2852317  2021-07-10         f  $40.00         $40.00               2   \n",
       "1      170756  2021-07-10         f  $53.00         $53.00               2   \n",
       "2      170756  2021-07-11         f  $54.00         $54.00               1   \n",
       "3      170756  2021-07-12         f  $53.00         $53.00               1   \n",
       "4      170756  2021-07-13         f  $53.00         $53.00               1   \n",
       "\n",
       "   maximum_nights  \n",
       "0            1125  \n",
       "1             180  \n",
       "2             180  \n",
       "3             180  \n",
       "4             180  "
      ]
     },
     "execution_count": 5,
     "metadata": {},
     "output_type": "execute_result"
    }
   ],
   "source": [
    "df_cal.head()"
   ]
  },
  {
   "cell_type": "code",
   "execution_count": 6,
   "id": "3c94a023",
   "metadata": {},
   "outputs": [
    {
     "data": {
      "text/html": [
       "<div>\n",
       "<style scoped>\n",
       "    .dataframe tbody tr th:only-of-type {\n",
       "        vertical-align: middle;\n",
       "    }\n",
       "\n",
       "    .dataframe tbody tr th {\n",
       "        vertical-align: top;\n",
       "    }\n",
       "\n",
       "    .dataframe thead th {\n",
       "        text-align: right;\n",
       "    }\n",
       "</style>\n",
       "<table border=\"1\" class=\"dataframe\">\n",
       "  <thead>\n",
       "    <tr style=\"text-align: right;\">\n",
       "      <th></th>\n",
       "      <th>id</th>\n",
       "      <th>listing_url</th>\n",
       "      <th>scrape_id</th>\n",
       "      <th>last_scraped</th>\n",
       "      <th>name</th>\n",
       "      <th>description</th>\n",
       "      <th>neighborhood_overview</th>\n",
       "      <th>picture_url</th>\n",
       "      <th>host_id</th>\n",
       "      <th>host_url</th>\n",
       "      <th>...</th>\n",
       "      <th>review_scores_communication</th>\n",
       "      <th>review_scores_location</th>\n",
       "      <th>review_scores_value</th>\n",
       "      <th>license</th>\n",
       "      <th>instant_bookable</th>\n",
       "      <th>calculated_host_listings_count</th>\n",
       "      <th>calculated_host_listings_count_entire_homes</th>\n",
       "      <th>calculated_host_listings_count_private_rooms</th>\n",
       "      <th>calculated_host_listings_count_shared_rooms</th>\n",
       "      <th>reviews_per_month</th>\n",
       "    </tr>\n",
       "  </thead>\n",
       "  <tbody>\n",
       "    <tr>\n",
       "      <th>0</th>\n",
       "      <td>15420</td>\n",
       "      <td>https://www.airbnb.com/rooms/15420</td>\n",
       "      <td>20210710030835</td>\n",
       "      <td>2021-07-10</td>\n",
       "      <td>Georgian Boutique Apt City Centre</td>\n",
       "      <td>Stunning, impeccably refurbished spacious grou...</td>\n",
       "      <td>The neighbourhood is in the historic New Town,...</td>\n",
       "      <td>https://a0.muscache.com/pictures/cf69631f-4194...</td>\n",
       "      <td>60423</td>\n",
       "      <td>https://www.airbnb.com/users/show/60423</td>\n",
       "      <td>...</td>\n",
       "      <td>4.98</td>\n",
       "      <td>4.98</td>\n",
       "      <td>4.90</td>\n",
       "      <td>NaN</td>\n",
       "      <td>f</td>\n",
       "      <td>1</td>\n",
       "      <td>1</td>\n",
       "      <td>0</td>\n",
       "      <td>0</td>\n",
       "      <td>5.35</td>\n",
       "    </tr>\n",
       "    <tr>\n",
       "      <th>1</th>\n",
       "      <td>24288</td>\n",
       "      <td>https://www.airbnb.com/rooms/24288</td>\n",
       "      <td>20210710030835</td>\n",
       "      <td>2021-07-10</td>\n",
       "      <td>Cool central Loft, sleeps 4, 2 double bed+en-s...</td>\n",
       "      <td>Upper level of duplex. Boho rustic-chic former...</td>\n",
       "      <td>It's all in the mix: Culture-museums and galle...</td>\n",
       "      <td>https://a0.muscache.com/pictures/3460007/88731...</td>\n",
       "      <td>46498</td>\n",
       "      <td>https://www.airbnb.com/users/show/46498</td>\n",
       "      <td>...</td>\n",
       "      <td>4.89</td>\n",
       "      <td>4.85</td>\n",
       "      <td>4.60</td>\n",
       "      <td>NaN</td>\n",
       "      <td>t</td>\n",
       "      <td>1</td>\n",
       "      <td>1</td>\n",
       "      <td>0</td>\n",
       "      <td>0</td>\n",
       "      <td>1.95</td>\n",
       "    </tr>\n",
       "    <tr>\n",
       "      <th>2</th>\n",
       "      <td>38628</td>\n",
       "      <td>https://www.airbnb.com/rooms/38628</td>\n",
       "      <td>20210710030835</td>\n",
       "      <td>2021-07-10</td>\n",
       "      <td>Edinburgh Holiday Let</td>\n",
       "      <td>Brunstane - Daiches Braes (close to Portobello...</td>\n",
       "      <td>Quiet and easy access to outside.</td>\n",
       "      <td>https://a0.muscache.com/pictures/d9885120-178e...</td>\n",
       "      <td>165635</td>\n",
       "      <td>https://www.airbnb.com/users/show/165635</td>\n",
       "      <td>...</td>\n",
       "      <td>4.87</td>\n",
       "      <td>4.84</td>\n",
       "      <td>4.84</td>\n",
       "      <td>NaN</td>\n",
       "      <td>t</td>\n",
       "      <td>2</td>\n",
       "      <td>2</td>\n",
       "      <td>0</td>\n",
       "      <td>0</td>\n",
       "      <td>0.98</td>\n",
       "    </tr>\n",
       "    <tr>\n",
       "      <th>3</th>\n",
       "      <td>44009</td>\n",
       "      <td>https://www.airbnb.com/rooms/44009</td>\n",
       "      <td>20210710030835</td>\n",
       "      <td>2021-07-10</td>\n",
       "      <td>Very Spacious, Well Lit, Double Room, Very Cen...</td>\n",
       "      <td>Imagine living in a beautiful, well lit, very ...</td>\n",
       "      <td>The flat is very central. It is 2mins from the...</td>\n",
       "      <td>https://a0.muscache.com/pictures/35cda67b-f2a0...</td>\n",
       "      <td>192586</td>\n",
       "      <td>https://www.airbnb.com/users/show/192586</td>\n",
       "      <td>...</td>\n",
       "      <td>4.73</td>\n",
       "      <td>4.67</td>\n",
       "      <td>4.63</td>\n",
       "      <td>NaN</td>\n",
       "      <td>f</td>\n",
       "      <td>1</td>\n",
       "      <td>0</td>\n",
       "      <td>1</td>\n",
       "      <td>0</td>\n",
       "      <td>0.29</td>\n",
       "    </tr>\n",
       "    <tr>\n",
       "      <th>4</th>\n",
       "      <td>44552</td>\n",
       "      <td>https://www.airbnb.com/rooms/44552</td>\n",
       "      <td>20210710030835</td>\n",
       "      <td>2021-07-10</td>\n",
       "      <td>Double room - spacious Leith flat</td>\n",
       "      <td>Pleasant double room in 2 bedroom ground floor...</td>\n",
       "      <td>NaN</td>\n",
       "      <td>https://a0.muscache.com/pictures/454814/0e351a...</td>\n",
       "      <td>195950</td>\n",
       "      <td>https://www.airbnb.com/users/show/195950</td>\n",
       "      <td>...</td>\n",
       "      <td>4.84</td>\n",
       "      <td>4.58</td>\n",
       "      <td>4.72</td>\n",
       "      <td>NaN</td>\n",
       "      <td>f</td>\n",
       "      <td>2</td>\n",
       "      <td>0</td>\n",
       "      <td>2</td>\n",
       "      <td>0</td>\n",
       "      <td>1.68</td>\n",
       "    </tr>\n",
       "  </tbody>\n",
       "</table>\n",
       "<p>5 rows × 74 columns</p>\n",
       "</div>"
      ],
      "text/plain": [
       "      id                         listing_url       scrape_id last_scraped  \\\n",
       "0  15420  https://www.airbnb.com/rooms/15420  20210710030835   2021-07-10   \n",
       "1  24288  https://www.airbnb.com/rooms/24288  20210710030835   2021-07-10   \n",
       "2  38628  https://www.airbnb.com/rooms/38628  20210710030835   2021-07-10   \n",
       "3  44009  https://www.airbnb.com/rooms/44009  20210710030835   2021-07-10   \n",
       "4  44552  https://www.airbnb.com/rooms/44552  20210710030835   2021-07-10   \n",
       "\n",
       "                                                name  \\\n",
       "0                  Georgian Boutique Apt City Centre   \n",
       "1  Cool central Loft, sleeps 4, 2 double bed+en-s...   \n",
       "2                              Edinburgh Holiday Let   \n",
       "3  Very Spacious, Well Lit, Double Room, Very Cen...   \n",
       "4                  Double room - spacious Leith flat   \n",
       "\n",
       "                                         description  \\\n",
       "0  Stunning, impeccably refurbished spacious grou...   \n",
       "1  Upper level of duplex. Boho rustic-chic former...   \n",
       "2  Brunstane - Daiches Braes (close to Portobello...   \n",
       "3  Imagine living in a beautiful, well lit, very ...   \n",
       "4  Pleasant double room in 2 bedroom ground floor...   \n",
       "\n",
       "                               neighborhood_overview  \\\n",
       "0  The neighbourhood is in the historic New Town,...   \n",
       "1  It's all in the mix: Culture-museums and galle...   \n",
       "2                  Quiet and easy access to outside.   \n",
       "3  The flat is very central. It is 2mins from the...   \n",
       "4                                                NaN   \n",
       "\n",
       "                                         picture_url  host_id  \\\n",
       "0  https://a0.muscache.com/pictures/cf69631f-4194...    60423   \n",
       "1  https://a0.muscache.com/pictures/3460007/88731...    46498   \n",
       "2  https://a0.muscache.com/pictures/d9885120-178e...   165635   \n",
       "3  https://a0.muscache.com/pictures/35cda67b-f2a0...   192586   \n",
       "4  https://a0.muscache.com/pictures/454814/0e351a...   195950   \n",
       "\n",
       "                                   host_url  ... review_scores_communication  \\\n",
       "0   https://www.airbnb.com/users/show/60423  ...                        4.98   \n",
       "1   https://www.airbnb.com/users/show/46498  ...                        4.89   \n",
       "2  https://www.airbnb.com/users/show/165635  ...                        4.87   \n",
       "3  https://www.airbnb.com/users/show/192586  ...                        4.73   \n",
       "4  https://www.airbnb.com/users/show/195950  ...                        4.84   \n",
       "\n",
       "  review_scores_location review_scores_value license instant_bookable  \\\n",
       "0                   4.98                4.90     NaN                f   \n",
       "1                   4.85                4.60     NaN                t   \n",
       "2                   4.84                4.84     NaN                t   \n",
       "3                   4.67                4.63     NaN                f   \n",
       "4                   4.58                4.72     NaN                f   \n",
       "\n",
       "  calculated_host_listings_count calculated_host_listings_count_entire_homes  \\\n",
       "0                              1                                           1   \n",
       "1                              1                                           1   \n",
       "2                              2                                           2   \n",
       "3                              1                                           0   \n",
       "4                              2                                           0   \n",
       "\n",
       "  calculated_host_listings_count_private_rooms  \\\n",
       "0                                            0   \n",
       "1                                            0   \n",
       "2                                            0   \n",
       "3                                            1   \n",
       "4                                            2   \n",
       "\n",
       "  calculated_host_listings_count_shared_rooms reviews_per_month  \n",
       "0                                           0              5.35  \n",
       "1                                           0              1.95  \n",
       "2                                           0              0.98  \n",
       "3                                           0              0.29  \n",
       "4                                           0              1.68  \n",
       "\n",
       "[5 rows x 74 columns]"
      ]
     },
     "execution_count": 6,
     "metadata": {},
     "output_type": "execute_result"
    }
   ],
   "source": [
    "df_listings.head()"
   ]
  },
  {
   "cell_type": "code",
   "execution_count": 7,
   "id": "f4c15fd1",
   "metadata": {},
   "outputs": [
    {
     "data": {
      "text/html": [
       "<div>\n",
       "<style scoped>\n",
       "    .dataframe tbody tr th:only-of-type {\n",
       "        vertical-align: middle;\n",
       "    }\n",
       "\n",
       "    .dataframe tbody tr th {\n",
       "        vertical-align: top;\n",
       "    }\n",
       "\n",
       "    .dataframe thead th {\n",
       "        text-align: right;\n",
       "    }\n",
       "</style>\n",
       "<table border=\"1\" class=\"dataframe\">\n",
       "  <thead>\n",
       "    <tr style=\"text-align: right;\">\n",
       "      <th></th>\n",
       "      <th>listing_id</th>\n",
       "      <th>id</th>\n",
       "      <th>date</th>\n",
       "      <th>reviewer_id</th>\n",
       "      <th>reviewer_name</th>\n",
       "      <th>comments</th>\n",
       "    </tr>\n",
       "  </thead>\n",
       "  <tbody>\n",
       "    <tr>\n",
       "      <th>0</th>\n",
       "      <td>15420</td>\n",
       "      <td>171793</td>\n",
       "      <td>2011-01-18</td>\n",
       "      <td>186358</td>\n",
       "      <td>Nels</td>\n",
       "      <td>My wife and I stayed at this beautiful apartme...</td>\n",
       "    </tr>\n",
       "    <tr>\n",
       "      <th>1</th>\n",
       "      <td>15420</td>\n",
       "      <td>176350</td>\n",
       "      <td>2011-01-31</td>\n",
       "      <td>95218</td>\n",
       "      <td>Gareth</td>\n",
       "      <td>Charlotte couldn't have been a more thoughtful...</td>\n",
       "    </tr>\n",
       "    <tr>\n",
       "      <th>2</th>\n",
       "      <td>15420</td>\n",
       "      <td>232149</td>\n",
       "      <td>2011-04-19</td>\n",
       "      <td>429751</td>\n",
       "      <td>Guido</td>\n",
       "      <td>I went to Edinburgh for the second time on Apr...</td>\n",
       "    </tr>\n",
       "    <tr>\n",
       "      <th>3</th>\n",
       "      <td>15420</td>\n",
       "      <td>236073</td>\n",
       "      <td>2011-04-23</td>\n",
       "      <td>420830</td>\n",
       "      <td>Mariah</td>\n",
       "      <td>This flat was incredible. As other guests have...</td>\n",
       "    </tr>\n",
       "    <tr>\n",
       "      <th>4</th>\n",
       "      <td>15420</td>\n",
       "      <td>263713</td>\n",
       "      <td>2011-05-15</td>\n",
       "      <td>203827</td>\n",
       "      <td>Linda</td>\n",
       "      <td>Fantastic host and the apartment was perfect. ...</td>\n",
       "    </tr>\n",
       "  </tbody>\n",
       "</table>\n",
       "</div>"
      ],
      "text/plain": [
       "   listing_id      id        date  reviewer_id reviewer_name  \\\n",
       "0       15420  171793  2011-01-18       186358          Nels   \n",
       "1       15420  176350  2011-01-31        95218        Gareth   \n",
       "2       15420  232149  2011-04-19       429751         Guido   \n",
       "3       15420  236073  2011-04-23       420830        Mariah   \n",
       "4       15420  263713  2011-05-15       203827         Linda   \n",
       "\n",
       "                                            comments  \n",
       "0  My wife and I stayed at this beautiful apartme...  \n",
       "1  Charlotte couldn't have been a more thoughtful...  \n",
       "2  I went to Edinburgh for the second time on Apr...  \n",
       "3  This flat was incredible. As other guests have...  \n",
       "4  Fantastic host and the apartment was perfect. ...  "
      ]
     },
     "execution_count": 7,
     "metadata": {},
     "output_type": "execute_result"
    }
   ],
   "source": [
    "df_reviews.head()"
   ]
  },
  {
   "cell_type": "markdown",
   "id": "a7c07f29",
   "metadata": {},
   "source": [
    "### Data Understanding 1.3 - Exploratory Data Analysis on Listings Summary data"
   ]
  },
  {
   "cell_type": "code",
   "execution_count": 47,
   "id": "ad4eb4a6",
   "metadata": {},
   "outputs": [
    {
     "data": {
      "text/plain": [
       "id                                   0\n",
       "name                                 0\n",
       "host_id                              0\n",
       "host_name                           80\n",
       "neighbourhood_group               6634\n",
       "neighbourhood                        0\n",
       "latitude                             0\n",
       "longitude                            0\n",
       "room_type                            0\n",
       "price                                0\n",
       "minimum_nights                       0\n",
       "number_of_reviews                    0\n",
       "last_review                       1068\n",
       "reviews_per_month                 1068\n",
       "calculated_host_listings_count       0\n",
       "availability_365                     0\n",
       "dtype: int64"
      ]
     },
     "execution_count": 47,
     "metadata": {},
     "output_type": "execute_result"
    }
   ],
   "source": [
    "df_listings1.isna().sum()"
   ]
  },
  {
   "cell_type": "code",
   "execution_count": 14,
   "id": "97b2eb7d",
   "metadata": {},
   "outputs": [
    {
     "data": {
      "text/html": [
       "<div>\n",
       "<style scoped>\n",
       "    .dataframe tbody tr th:only-of-type {\n",
       "        vertical-align: middle;\n",
       "    }\n",
       "\n",
       "    .dataframe tbody tr th {\n",
       "        vertical-align: top;\n",
       "    }\n",
       "\n",
       "    .dataframe thead th {\n",
       "        text-align: right;\n",
       "    }\n",
       "</style>\n",
       "<table border=\"1\" class=\"dataframe\">\n",
       "  <thead>\n",
       "    <tr style=\"text-align: right;\">\n",
       "      <th></th>\n",
       "      <th>id</th>\n",
       "      <th>name</th>\n",
       "      <th>host_id</th>\n",
       "      <th>host_name</th>\n",
       "      <th>neighbourhood_group</th>\n",
       "      <th>neighbourhood</th>\n",
       "      <th>latitude</th>\n",
       "      <th>longitude</th>\n",
       "      <th>room_type</th>\n",
       "      <th>price</th>\n",
       "      <th>minimum_nights</th>\n",
       "      <th>number_of_reviews</th>\n",
       "      <th>last_review</th>\n",
       "      <th>reviews_per_month</th>\n",
       "      <th>calculated_host_listings_count</th>\n",
       "      <th>availability_365</th>\n",
       "    </tr>\n",
       "  </thead>\n",
       "  <tbody>\n",
       "    <tr>\n",
       "      <th>count</th>\n",
       "      <td>6.634000e+03</td>\n",
       "      <td>6634</td>\n",
       "      <td>6.634000e+03</td>\n",
       "      <td>6554</td>\n",
       "      <td>0.0</td>\n",
       "      <td>6634</td>\n",
       "      <td>6634.000000</td>\n",
       "      <td>6634.000000</td>\n",
       "      <td>6634</td>\n",
       "      <td>6634.000000</td>\n",
       "      <td>6634.000000</td>\n",
       "      <td>6634.000000</td>\n",
       "      <td>5566</td>\n",
       "      <td>5566.000000</td>\n",
       "      <td>6634.000000</td>\n",
       "      <td>6634.000000</td>\n",
       "    </tr>\n",
       "    <tr>\n",
       "      <th>unique</th>\n",
       "      <td>NaN</td>\n",
       "      <td>6555</td>\n",
       "      <td>NaN</td>\n",
       "      <td>1773</td>\n",
       "      <td>NaN</td>\n",
       "      <td>111</td>\n",
       "      <td>NaN</td>\n",
       "      <td>NaN</td>\n",
       "      <td>4</td>\n",
       "      <td>NaN</td>\n",
       "      <td>NaN</td>\n",
       "      <td>NaN</td>\n",
       "      <td>1115</td>\n",
       "      <td>NaN</td>\n",
       "      <td>NaN</td>\n",
       "      <td>NaN</td>\n",
       "    </tr>\n",
       "    <tr>\n",
       "      <th>top</th>\n",
       "      <td>NaN</td>\n",
       "      <td>Mono Suites - One Bedroom Suite</td>\n",
       "      <td>NaN</td>\n",
       "      <td>James</td>\n",
       "      <td>NaN</td>\n",
       "      <td>Old Town, Princes Street and Leith Street</td>\n",
       "      <td>NaN</td>\n",
       "      <td>NaN</td>\n",
       "      <td>Entire home/apt</td>\n",
       "      <td>NaN</td>\n",
       "      <td>NaN</td>\n",
       "      <td>NaN</td>\n",
       "      <td>2020-01-02</td>\n",
       "      <td>NaN</td>\n",
       "      <td>NaN</td>\n",
       "      <td>NaN</td>\n",
       "    </tr>\n",
       "    <tr>\n",
       "      <th>freq</th>\n",
       "      <td>NaN</td>\n",
       "      <td>7</td>\n",
       "      <td>NaN</td>\n",
       "      <td>210</td>\n",
       "      <td>NaN</td>\n",
       "      <td>765</td>\n",
       "      <td>NaN</td>\n",
       "      <td>NaN</td>\n",
       "      <td>4375</td>\n",
       "      <td>NaN</td>\n",
       "      <td>NaN</td>\n",
       "      <td>NaN</td>\n",
       "      <td>101</td>\n",
       "      <td>NaN</td>\n",
       "      <td>NaN</td>\n",
       "      <td>NaN</td>\n",
       "    </tr>\n",
       "    <tr>\n",
       "      <th>mean</th>\n",
       "      <td>2.641679e+07</td>\n",
       "      <td>NaN</td>\n",
       "      <td>1.156050e+08</td>\n",
       "      <td>NaN</td>\n",
       "      <td>NaN</td>\n",
       "      <td>NaN</td>\n",
       "      <td>55.950456</td>\n",
       "      <td>-3.198222</td>\n",
       "      <td>NaN</td>\n",
       "      <td>144.704402</td>\n",
       "      <td>4.853482</td>\n",
       "      <td>56.100844</td>\n",
       "      <td>NaN</td>\n",
       "      <td>1.701010</td>\n",
       "      <td>12.283087</td>\n",
       "      <td>155.290473</td>\n",
       "    </tr>\n",
       "    <tr>\n",
       "      <th>std</th>\n",
       "      <td>1.465081e+07</td>\n",
       "      <td>NaN</td>\n",
       "      <td>1.169969e+08</td>\n",
       "      <td>NaN</td>\n",
       "      <td>NaN</td>\n",
       "      <td>NaN</td>\n",
       "      <td>0.015453</td>\n",
       "      <td>0.037759</td>\n",
       "      <td>NaN</td>\n",
       "      <td>523.968883</td>\n",
       "      <td>33.740421</td>\n",
       "      <td>89.226018</td>\n",
       "      <td>NaN</td>\n",
       "      <td>2.222943</td>\n",
       "      <td>33.322392</td>\n",
       "      <td>131.474545</td>\n",
       "    </tr>\n",
       "    <tr>\n",
       "      <th>min</th>\n",
       "      <td>1.542000e+04</td>\n",
       "      <td>NaN</td>\n",
       "      <td>3.629800e+04</td>\n",
       "      <td>NaN</td>\n",
       "      <td>NaN</td>\n",
       "      <td>NaN</td>\n",
       "      <td>55.858160</td>\n",
       "      <td>-3.418760</td>\n",
       "      <td>NaN</td>\n",
       "      <td>0.000000</td>\n",
       "      <td>1.000000</td>\n",
       "      <td>0.000000</td>\n",
       "      <td>NaN</td>\n",
       "      <td>0.010000</td>\n",
       "      <td>1.000000</td>\n",
       "      <td>0.000000</td>\n",
       "    </tr>\n",
       "    <tr>\n",
       "      <th>25%</th>\n",
       "      <td>1.434876e+07</td>\n",
       "      <td>NaN</td>\n",
       "      <td>2.092327e+07</td>\n",
       "      <td>NaN</td>\n",
       "      <td>NaN</td>\n",
       "      <td>NaN</td>\n",
       "      <td>55.942475</td>\n",
       "      <td>-3.211848</td>\n",
       "      <td>NaN</td>\n",
       "      <td>55.000000</td>\n",
       "      <td>1.000000</td>\n",
       "      <td>2.000000</td>\n",
       "      <td>NaN</td>\n",
       "      <td>0.370000</td>\n",
       "      <td>1.000000</td>\n",
       "      <td>29.000000</td>\n",
       "    </tr>\n",
       "    <tr>\n",
       "      <th>50%</th>\n",
       "      <td>2.635944e+07</td>\n",
       "      <td>NaN</td>\n",
       "      <td>6.828647e+07</td>\n",
       "      <td>NaN</td>\n",
       "      <td>NaN</td>\n",
       "      <td>NaN</td>\n",
       "      <td>55.951005</td>\n",
       "      <td>-3.193375</td>\n",
       "      <td>NaN</td>\n",
       "      <td>85.000000</td>\n",
       "      <td>2.000000</td>\n",
       "      <td>19.000000</td>\n",
       "      <td>NaN</td>\n",
       "      <td>1.090000</td>\n",
       "      <td>2.000000</td>\n",
       "      <td>127.000000</td>\n",
       "    </tr>\n",
       "    <tr>\n",
       "      <th>75%</th>\n",
       "      <td>3.771678e+07</td>\n",
       "      <td>NaN</td>\n",
       "      <td>1.897102e+08</td>\n",
       "      <td>NaN</td>\n",
       "      <td>NaN</td>\n",
       "      <td>NaN</td>\n",
       "      <td>55.959930</td>\n",
       "      <td>-3.178385</td>\n",
       "      <td>NaN</td>\n",
       "      <td>133.000000</td>\n",
       "      <td>3.000000</td>\n",
       "      <td>74.000000</td>\n",
       "      <td>NaN</td>\n",
       "      <td>2.410000</td>\n",
       "      <td>5.000000</td>\n",
       "      <td>293.000000</td>\n",
       "    </tr>\n",
       "    <tr>\n",
       "      <th>max</th>\n",
       "      <td>5.093336e+07</td>\n",
       "      <td>NaN</td>\n",
       "      <td>4.114227e+08</td>\n",
       "      <td>NaN</td>\n",
       "      <td>NaN</td>\n",
       "      <td>NaN</td>\n",
       "      <td>55.991560</td>\n",
       "      <td>-3.078950</td>\n",
       "      <td>NaN</td>\n",
       "      <td>17626.000000</td>\n",
       "      <td>1124.000000</td>\n",
       "      <td>1532.000000</td>\n",
       "      <td>NaN</td>\n",
       "      <td>62.190000</td>\n",
       "      <td>174.000000</td>\n",
       "      <td>365.000000</td>\n",
       "    </tr>\n",
       "  </tbody>\n",
       "</table>\n",
       "</div>"
      ],
      "text/plain": [
       "                  id                             name       host_id host_name  \\\n",
       "count   6.634000e+03                             6634  6.634000e+03      6554   \n",
       "unique           NaN                             6555           NaN      1773   \n",
       "top              NaN  Mono Suites - One Bedroom Suite           NaN     James   \n",
       "freq             NaN                                7           NaN       210   \n",
       "mean    2.641679e+07                              NaN  1.156050e+08       NaN   \n",
       "std     1.465081e+07                              NaN  1.169969e+08       NaN   \n",
       "min     1.542000e+04                              NaN  3.629800e+04       NaN   \n",
       "25%     1.434876e+07                              NaN  2.092327e+07       NaN   \n",
       "50%     2.635944e+07                              NaN  6.828647e+07       NaN   \n",
       "75%     3.771678e+07                              NaN  1.897102e+08       NaN   \n",
       "max     5.093336e+07                              NaN  4.114227e+08       NaN   \n",
       "\n",
       "        neighbourhood_group                              neighbourhood  \\\n",
       "count                   0.0                                       6634   \n",
       "unique                  NaN                                        111   \n",
       "top                     NaN  Old Town, Princes Street and Leith Street   \n",
       "freq                    NaN                                        765   \n",
       "mean                    NaN                                        NaN   \n",
       "std                     NaN                                        NaN   \n",
       "min                     NaN                                        NaN   \n",
       "25%                     NaN                                        NaN   \n",
       "50%                     NaN                                        NaN   \n",
       "75%                     NaN                                        NaN   \n",
       "max                     NaN                                        NaN   \n",
       "\n",
       "           latitude    longitude        room_type         price  \\\n",
       "count   6634.000000  6634.000000             6634   6634.000000   \n",
       "unique          NaN          NaN                4           NaN   \n",
       "top             NaN          NaN  Entire home/apt           NaN   \n",
       "freq            NaN          NaN             4375           NaN   \n",
       "mean      55.950456    -3.198222              NaN    144.704402   \n",
       "std        0.015453     0.037759              NaN    523.968883   \n",
       "min       55.858160    -3.418760              NaN      0.000000   \n",
       "25%       55.942475    -3.211848              NaN     55.000000   \n",
       "50%       55.951005    -3.193375              NaN     85.000000   \n",
       "75%       55.959930    -3.178385              NaN    133.000000   \n",
       "max       55.991560    -3.078950              NaN  17626.000000   \n",
       "\n",
       "        minimum_nights  number_of_reviews last_review  reviews_per_month  \\\n",
       "count      6634.000000        6634.000000        5566        5566.000000   \n",
       "unique             NaN                NaN        1115                NaN   \n",
       "top                NaN                NaN  2020-01-02                NaN   \n",
       "freq               NaN                NaN         101                NaN   \n",
       "mean          4.853482          56.100844         NaN           1.701010   \n",
       "std          33.740421          89.226018         NaN           2.222943   \n",
       "min           1.000000           0.000000         NaN           0.010000   \n",
       "25%           1.000000           2.000000         NaN           0.370000   \n",
       "50%           2.000000          19.000000         NaN           1.090000   \n",
       "75%           3.000000          74.000000         NaN           2.410000   \n",
       "max        1124.000000        1532.000000         NaN          62.190000   \n",
       "\n",
       "        calculated_host_listings_count  availability_365  \n",
       "count                      6634.000000       6634.000000  \n",
       "unique                             NaN               NaN  \n",
       "top                                NaN               NaN  \n",
       "freq                               NaN               NaN  \n",
       "mean                         12.283087        155.290473  \n",
       "std                          33.322392        131.474545  \n",
       "min                           1.000000          0.000000  \n",
       "25%                           1.000000         29.000000  \n",
       "50%                           2.000000        127.000000  \n",
       "75%                           5.000000        293.000000  \n",
       "max                         174.000000        365.000000  "
      ]
     },
     "execution_count": 14,
     "metadata": {},
     "output_type": "execute_result"
    }
   ],
   "source": [
    "df_listings1.describe(include='all')"
   ]
  },
  {
   "cell_type": "code",
   "execution_count": 22,
   "id": "04e5051d",
   "metadata": {},
   "outputs": [
    {
     "data": {
      "text/plain": [
       "6634"
      ]
     },
     "execution_count": 22,
     "metadata": {},
     "output_type": "execute_result"
    }
   ],
   "source": [
    "df_listings1['id'].nunique() # how many unique listings are there? 6,634 - so data set is one row per listing"
   ]
  },
  {
   "cell_type": "code",
   "execution_count": 23,
   "id": "eb1a0004",
   "metadata": {},
   "outputs": [
    {
     "data": {
      "text/plain": [
       "4036"
      ]
     },
     "execution_count": 23,
     "metadata": {},
     "output_type": "execute_result"
    }
   ],
   "source": [
    "df_listings1['host_id'].nunique() # belonging to 4,036 unique hosts"
   ]
  },
  {
   "cell_type": "markdown",
   "id": "7b4c4d14",
   "metadata": {},
   "source": [
    "### Business Understanding 1.1 - brainstorming business questions to address\n",
    "<b>Here are some potentially interesting questions I could answer using this data:<b><br>\n",
    "- How many properties are available to rent?<br>\n",
    "- How many hosts are letting them?<br>\n",
    "- Number of properties per host - are people just letting their flat while they are away(casual letting, pocket money)? or do some people own a load of properties to let out and make income from (small business, income stream)?<br>\n",
    "- What parts of the city have the most listings? (can I map this to show visually?)<br>\n",
    "- What's the most popular room type?<br>\n",
    "- What's the most popular min/max stays (advertised)?<br>\n",
    "- What price range are the listings - and how does this relate to neighbourhood/room type?<br>\n",
    "- Is there seasonality in Edinburgh bookings? (my gut says August and Hogmanay will be most popular times...) - does this link to pricing? (again, I'd expect peak times to be most expensive)<br>\n",
    "- What words are most commonly used to describe lettings (by hosts)?<br>\n",
    "- Do reviewers agree/what words do they use? - sentiment analysis? - should Air BnB have this as a tool for hosts/visitors? select properties based on certain words/themes e.g. trendy vs historical etc.<br>\n",
    "- If I had a property in Edinburgh, how would I price it? Can I build a predictive model that predicts price based on property listing details? -- should AirBnB have this as a tool for hosts?<br>\n",
    "- What is the range of review scores, and what influences score? Can I build a predictive model that predicts score based on property listing details? -- should AirBnB have a tool for hosts to help them improve their scores?<br>\n"
   ]
  },
  {
   "cell_type": "markdown",
   "id": "9f53f0c4",
   "metadata": {},
   "source": [
    "### Business Understanding 1.2 - answering analysis questions on the listings data"
   ]
  },
  {
   "cell_type": "markdown",
   "id": "f6680a7a",
   "metadata": {},
   "source": [
    "<b>Let's chart how many listings per host, I expect most hosts only have one...<b>"
   ]
  },
  {
   "cell_type": "code",
   "execution_count": 5,
   "id": "8d2b8de1",
   "metadata": {},
   "outputs": [
    {
     "data": {
      "image/png": "[encoded data removed]",
      "text/plain": [
       "<Figure size 1440x720 with 1 Axes>"
      ]
     },
     "metadata": {
      "needs_background": "light"
     },
     "output_type": "display_data"
    }
   ],
   "source": [
    "listings_per_host = df_listings1[['host_id','calculated_host_listings_count']].groupby('calculated_host_listings_count').nunique()\n",
    "listings_per_host.reset_index(drop=False, inplace=True)\n",
    "listings_per_host.plot(x='calculated_host_listings_count', y='host_id', kind='bar', figsize=(20,10))\n",
    "plt.title('Listings per Host')\n",
    "plt.xlabel('calculated host listings count')\n",
    "plt.ylabel('number of hosts')\n",
    "plt.show()\n"
   ]
  },
  {
   "cell_type": "markdown",
   "id": "c402759b",
   "metadata": {},
   "source": [
    "About three quarters of hosts only have one listing but there are a chunk with 2 and some outliers with over 100!"
   ]
  },
  {
   "cell_type": "markdown",
   "id": "48a40feb",
   "metadata": {},
   "source": [
    "<b>Let's look at the most and least popular neighbourhoods to be listed:<b>"
   ]
  },
  {
   "cell_type": "code",
   "execution_count": 35,
   "id": "89f184ab",
   "metadata": {},
   "outputs": [
    {
     "data": {
      "text/html": [
       "<div>\n",
       "<style scoped>\n",
       "    .dataframe tbody tr th:only-of-type {\n",
       "        vertical-align: middle;\n",
       "    }\n",
       "\n",
       "    .dataframe tbody tr th {\n",
       "        vertical-align: top;\n",
       "    }\n",
       "\n",
       "    .dataframe thead th {\n",
       "        text-align: right;\n",
       "    }\n",
       "</style>\n",
       "<table border=\"1\" class=\"dataframe\">\n",
       "  <thead>\n",
       "    <tr style=\"text-align: right;\">\n",
       "      <th></th>\n",
       "      <th>id</th>\n",
       "    </tr>\n",
       "    <tr>\n",
       "      <th>neighbourhood</th>\n",
       "      <th></th>\n",
       "    </tr>\n",
       "  </thead>\n",
       "  <tbody>\n",
       "    <tr>\n",
       "      <th>Old Town, Princes Street and Leith Street</th>\n",
       "      <td>765</td>\n",
       "    </tr>\n",
       "    <tr>\n",
       "      <th>Deans Village</th>\n",
       "      <td>392</td>\n",
       "    </tr>\n",
       "    <tr>\n",
       "      <th>Tollcross</th>\n",
       "      <td>334</td>\n",
       "    </tr>\n",
       "    <tr>\n",
       "      <th>Hillside and Calton Hill</th>\n",
       "      <td>247</td>\n",
       "    </tr>\n",
       "    <tr>\n",
       "      <th>Dalry and Fountainbridge</th>\n",
       "      <td>242</td>\n",
       "    </tr>\n",
       "    <tr>\n",
       "      <th>Meadows and Southside</th>\n",
       "      <td>228</td>\n",
       "    </tr>\n",
       "    <tr>\n",
       "      <th>New Town West</th>\n",
       "      <td>225</td>\n",
       "    </tr>\n",
       "    <tr>\n",
       "      <th>Canongate, Southside and Dumbiedykes</th>\n",
       "      <td>224</td>\n",
       "    </tr>\n",
       "    <tr>\n",
       "      <th>New Town East and Gayfield</th>\n",
       "      <td>174</td>\n",
       "    </tr>\n",
       "    <tr>\n",
       "      <th>Stockbridge</th>\n",
       "      <td>168</td>\n",
       "    </tr>\n",
       "  </tbody>\n",
       "</table>\n",
       "</div>"
      ],
      "text/plain": [
       "                                            id\n",
       "neighbourhood                                 \n",
       "Old Town, Princes Street and Leith Street  765\n",
       "Deans Village                              392\n",
       "Tollcross                                  334\n",
       "Hillside and Calton Hill                   247\n",
       "Dalry and Fountainbridge                   242\n",
       "Meadows and Southside                      228\n",
       "New Town West                              225\n",
       "Canongate, Southside and Dumbiedykes       224\n",
       "New Town East and Gayfield                 174\n",
       "Stockbridge                                168"
      ]
     },
     "execution_count": 35,
     "metadata": {},
     "output_type": "execute_result"
    }
   ],
   "source": [
    "df_listings1[['neighbourhood','id']].groupby('neighbourhood').count().sort_values(by='id', ascending=False).head(10) "
   ]
  },
  {
   "cell_type": "markdown",
   "id": "da3bb598",
   "metadata": {},
   "source": [
    "Top 10 neighbourhoods are central, near tourist attractions (makes sense)"
   ]
  },
  {
   "cell_type": "code",
   "execution_count": 36,
   "id": "c1c0c6ba",
   "metadata": {},
   "outputs": [
    {
     "data": {
      "text/html": [
       "<div>\n",
       "<style scoped>\n",
       "    .dataframe tbody tr th:only-of-type {\n",
       "        vertical-align: middle;\n",
       "    }\n",
       "\n",
       "    .dataframe tbody tr th {\n",
       "        vertical-align: top;\n",
       "    }\n",
       "\n",
       "    .dataframe thead th {\n",
       "        text-align: right;\n",
       "    }\n",
       "</style>\n",
       "<table border=\"1\" class=\"dataframe\">\n",
       "  <thead>\n",
       "    <tr style=\"text-align: right;\">\n",
       "      <th></th>\n",
       "      <th>id</th>\n",
       "    </tr>\n",
       "    <tr>\n",
       "      <th>neighbourhood</th>\n",
       "      <th></th>\n",
       "    </tr>\n",
       "  </thead>\n",
       "  <tbody>\n",
       "    <tr>\n",
       "      <th>Clovenstone and Wester Hailes</th>\n",
       "      <td>8</td>\n",
       "    </tr>\n",
       "    <tr>\n",
       "      <th>Colinton Mains and Firrhill</th>\n",
       "      <td>8</td>\n",
       "    </tr>\n",
       "    <tr>\n",
       "      <th>Liberton East</th>\n",
       "      <td>8</td>\n",
       "    </tr>\n",
       "    <tr>\n",
       "      <th>East Craigs North</th>\n",
       "      <td>8</td>\n",
       "    </tr>\n",
       "    <tr>\n",
       "      <th>Hyvots and Gilmerton</th>\n",
       "      <td>7</td>\n",
       "    </tr>\n",
       "    <tr>\n",
       "      <th>Queensferry West</th>\n",
       "      <td>6</td>\n",
       "    </tr>\n",
       "    <tr>\n",
       "      <th>Currie East</th>\n",
       "      <td>6</td>\n",
       "    </tr>\n",
       "    <tr>\n",
       "      <th>Carrick Knowe</th>\n",
       "      <td>6</td>\n",
       "    </tr>\n",
       "    <tr>\n",
       "      <th>Barnton, Cammo and Cramond South</th>\n",
       "      <td>4</td>\n",
       "    </tr>\n",
       "    <tr>\n",
       "      <th>Fairmilehead</th>\n",
       "      <td>3</td>\n",
       "    </tr>\n",
       "  </tbody>\n",
       "</table>\n",
       "</div>"
      ],
      "text/plain": [
       "                                  id\n",
       "neighbourhood                       \n",
       "Clovenstone and Wester Hailes      8\n",
       "Colinton Mains and Firrhill        8\n",
       "Liberton East                      8\n",
       "East Craigs North                  8\n",
       "Hyvots and Gilmerton               7\n",
       "Queensferry West                   6\n",
       "Currie East                        6\n",
       "Carrick Knowe                      6\n",
       "Barnton, Cammo and Cramond South   4\n",
       "Fairmilehead                       3"
      ]
     },
     "execution_count": 36,
     "metadata": {},
     "output_type": "execute_result"
    }
   ],
   "source": [
    "df_listings1[['neighbourhood','id']].groupby('neighbourhood').count().sort_values(by='id', ascending=False).tail(10) "
   ]
  },
  {
   "cell_type": "markdown",
   "id": "048a5c29",
   "metadata": {},
   "source": [
    "Bottom 10 also make sense\n",
    "- some are out of town, areas I would describe as satellite villages rather than part of Edinburgh proper \n",
    "- some are less attractive neighbourhoods - fine to live in but not what a tourist would imagine when they think of Edinburgh"
   ]
  },
  {
   "cell_type": "markdown",
   "id": "2eeee73c",
   "metadata": {},
   "source": [
    "<b> Can I show this on a map?<b>"
   ]
  },
  {
   "cell_type": "markdown",
   "id": "de890975",
   "metadata": {},
   "source": [
    "Although I can succesfully read the geojson file using geopandas, I can't get geoplot to work.<br>\n",
    "Googling the error suggests that my version of python isn't up to date enough, I might come back to this later or try outside my corporate environment.<br>\n",
    "There may be other ways of plotting it that I can investigate too, although geoplot sounds easiest! <br>"
   ]
  },
  {
   "cell_type": "code",
   "execution_count": 7,
   "id": "55c100f5",
   "metadata": {},
   "outputs": [
    {
     "data": {
      "text/plain": [
       "<Geographic 2D CRS: EPSG:4326>\n",
       "Name: WGS 84\n",
       "Axis Info [ellipsoidal]:\n",
       "- Lat[north]: Geodetic latitude (degree)\n",
       "- Lon[east]: Geodetic longitude (degree)\n",
       "Area of Use:\n",
       "- name: World\n",
       "- bounds: (-180.0, -90.0, 180.0, 90.0)\n",
       "Datum: World Geodetic System 1984\n",
       "- Ellipsoid: WGS 84\n",
       "- Prime Meridian: Greenwich"
      ]
     },
     "execution_count": 7,
     "metadata": {},
     "output_type": "execute_result"
    }
   ],
   "source": [
    "data = gpd.read_file(\"neighbourhoods.geojson\")\n",
    "data.crs"
   ]
  },
  {
   "cell_type": "code",
   "execution_count": 8,
   "id": "672551dc",
   "metadata": {},
   "outputs": [
    {
     "data": {
      "text/html": [
       "<div>\n",
       "<style scoped>\n",
       "    .dataframe tbody tr th:only-of-type {\n",
       "        vertical-align: middle;\n",
       "    }\n",
       "\n",
       "    .dataframe tbody tr th {\n",
       "        vertical-align: top;\n",
       "    }\n",
       "\n",
       "    .dataframe thead th {\n",
       "        text-align: right;\n",
       "    }\n",
       "</style>\n",
       "<table border=\"1\" class=\"dataframe\">\n",
       "  <thead>\n",
       "    <tr style=\"text-align: right;\">\n",
       "      <th></th>\n",
       "      <th>neighbourhood</th>\n",
       "      <th>neighbourhood_group</th>\n",
       "      <th>geometry</th>\n",
       "    </tr>\n",
       "  </thead>\n",
       "  <tbody>\n",
       "    <tr>\n",
       "      <th>0</th>\n",
       "      <td>Balerno and Bonnington Village</td>\n",
       "      <td>None</td>\n",
       "      <td>MULTIPOLYGON (((-3.35805 55.91088, -3.35950 55...</td>\n",
       "    </tr>\n",
       "    <tr>\n",
       "      <th>1</th>\n",
       "      <td>Currie West</td>\n",
       "      <td>None</td>\n",
       "      <td>MULTIPOLYGON (((-3.30557 55.92039, -3.30418 55...</td>\n",
       "    </tr>\n",
       "    <tr>\n",
       "      <th>2</th>\n",
       "      <td>Currie East</td>\n",
       "      <td>None</td>\n",
       "      <td>MULTIPOLYGON (((-3.30808 55.89430, -3.30870 55...</td>\n",
       "    </tr>\n",
       "    <tr>\n",
       "      <th>3</th>\n",
       "      <td>Baberton and Juniper Green</td>\n",
       "      <td>None</td>\n",
       "      <td>MULTIPOLYGON (((-3.28635 55.91564, -3.28617 55...</td>\n",
       "    </tr>\n",
       "    <tr>\n",
       "      <th>4</th>\n",
       "      <td>Bonaly and The Pentlands</td>\n",
       "      <td>None</td>\n",
       "      <td>MULTIPOLYGON (((-3.30808 55.89430, -3.30834 55...</td>\n",
       "    </tr>\n",
       "    <tr>\n",
       "      <th>...</th>\n",
       "      <td>...</td>\n",
       "      <td>...</td>\n",
       "      <td>...</td>\n",
       "    </tr>\n",
       "    <tr>\n",
       "      <th>106</th>\n",
       "      <td>South Gyle</td>\n",
       "      <td>None</td>\n",
       "      <td>MULTIPOLYGON (((-3.30084 55.94246, -3.30081 55...</td>\n",
       "    </tr>\n",
       "    <tr>\n",
       "      <th>107</th>\n",
       "      <td>Ratho, Ingliston and Gogar</td>\n",
       "      <td>None</td>\n",
       "      <td>MULTIPOLYGON (((-3.34287 55.96432, -3.34150 55...</td>\n",
       "    </tr>\n",
       "    <tr>\n",
       "      <th>108</th>\n",
       "      <td>Queensferry West</td>\n",
       "      <td>None</td>\n",
       "      <td>MULTIPOLYGON (((-3.41600 55.99385, -3.41582 55...</td>\n",
       "    </tr>\n",
       "    <tr>\n",
       "      <th>109</th>\n",
       "      <td>Dalmeny, Kirkliston and Newbridge</td>\n",
       "      <td>None</td>\n",
       "      <td>MULTIPOLYGON (((-3.29012 55.99545, -3.28998 55...</td>\n",
       "    </tr>\n",
       "    <tr>\n",
       "      <th>110</th>\n",
       "      <td>Queensferry East</td>\n",
       "      <td>None</td>\n",
       "      <td>MULTIPOLYGON (((-3.39619 55.99206, -3.39567 55...</td>\n",
       "    </tr>\n",
       "  </tbody>\n",
       "</table>\n",
       "<p>111 rows × 3 columns</p>\n",
       "</div>"
      ],
      "text/plain": [
       "                         neighbourhood neighbourhood_group  \\\n",
       "0       Balerno and Bonnington Village                None   \n",
       "1                          Currie West                None   \n",
       "2                          Currie East                None   \n",
       "3           Baberton and Juniper Green                None   \n",
       "4             Bonaly and The Pentlands                None   \n",
       "..                                 ...                 ...   \n",
       "106                         South Gyle                None   \n",
       "107         Ratho, Ingliston and Gogar                None   \n",
       "108                   Queensferry West                None   \n",
       "109  Dalmeny, Kirkliston and Newbridge                None   \n",
       "110                   Queensferry East                None   \n",
       "\n",
       "                                              geometry  \n",
       "0    MULTIPOLYGON (((-3.35805 55.91088, -3.35950 55...  \n",
       "1    MULTIPOLYGON (((-3.30557 55.92039, -3.30418 55...  \n",
       "2    MULTIPOLYGON (((-3.30808 55.89430, -3.30870 55...  \n",
       "3    MULTIPOLYGON (((-3.28635 55.91564, -3.28617 55...  \n",
       "4    MULTIPOLYGON (((-3.30808 55.89430, -3.30834 55...  \n",
       "..                                                 ...  \n",
       "106  MULTIPOLYGON (((-3.30084 55.94246, -3.30081 55...  \n",
       "107  MULTIPOLYGON (((-3.34287 55.96432, -3.34150 55...  \n",
       "108  MULTIPOLYGON (((-3.41600 55.99385, -3.41582 55...  \n",
       "109  MULTIPOLYGON (((-3.29012 55.99545, -3.28998 55...  \n",
       "110  MULTIPOLYGON (((-3.39619 55.99206, -3.39567 55...  \n",
       "\n",
       "[111 rows x 3 columns]"
      ]
     },
     "execution_count": 8,
     "metadata": {},
     "output_type": "execute_result"
    }
   ],
   "source": [
    "data"
   ]
  },
  {
   "cell_type": "markdown",
   "id": "dd5516a4",
   "metadata": {},
   "source": [
    "<b> Let's look at the split of room types (I'll use normalize so I don't have to work out the percentages in my head...)<b>"
   ]
  },
  {
   "cell_type": "code",
   "execution_count": 45,
   "id": "6896a8dc",
   "metadata": {},
   "outputs": [
    {
     "data": {
      "text/plain": [
       "room_type      \n",
       "Entire home/apt    0.659481\n",
       "Private room       0.321224\n",
       "Hotel room         0.015526\n",
       "Shared room        0.003768\n",
       "dtype: float64"
      ]
     },
     "execution_count": 45,
     "metadata": {},
     "output_type": "execute_result"
    }
   ],
   "source": [
    "df_listings1[['room_type']].value_counts(normalize=True) "
   ]
  },
  {
   "cell_type": "markdown",
   "id": "76da46e3",
   "metadata": {},
   "source": [
    "- c.two-thirds are the whole home/apt - wonder what \"hotel room\" means, do hotels advertise on AirBnB?\n",
    "- Shared room is a low proportion, can't imagine they are popular, possibly very cheap though!"
   ]
  },
  {
   "cell_type": "markdown",
   "id": "171557e7",
   "metadata": {},
   "source": [
    "<b> Am I right about Shared rooms being cheap?<b>"
   ]
  },
  {
   "cell_type": "code",
   "execution_count": 49,
   "id": "406a1a21",
   "metadata": {},
   "outputs": [
    {
     "data": {
      "text/html": [
       "<div>\n",
       "<style scoped>\n",
       "    .dataframe tbody tr th:only-of-type {\n",
       "        vertical-align: middle;\n",
       "    }\n",
       "\n",
       "    .dataframe tbody tr th {\n",
       "        vertical-align: top;\n",
       "    }\n",
       "\n",
       "    .dataframe thead th {\n",
       "        text-align: right;\n",
       "    }\n",
       "</style>\n",
       "<table border=\"1\" class=\"dataframe\">\n",
       "  <thead>\n",
       "    <tr style=\"text-align: right;\">\n",
       "      <th></th>\n",
       "      <th>price</th>\n",
       "    </tr>\n",
       "    <tr>\n",
       "      <th>room_type</th>\n",
       "      <th></th>\n",
       "    </tr>\n",
       "  </thead>\n",
       "  <tbody>\n",
       "    <tr>\n",
       "      <th>Entire home/apt</th>\n",
       "      <td>157.783314</td>\n",
       "    </tr>\n",
       "    <tr>\n",
       "      <th>Hotel room</th>\n",
       "      <td>259.116505</td>\n",
       "    </tr>\n",
       "    <tr>\n",
       "      <th>Private room</th>\n",
       "      <td>113.627874</td>\n",
       "    </tr>\n",
       "    <tr>\n",
       "      <th>Shared room</th>\n",
       "      <td>33.480000</td>\n",
       "    </tr>\n",
       "  </tbody>\n",
       "</table>\n",
       "</div>"
      ],
      "text/plain": [
       "                      price\n",
       "room_type                  \n",
       "Entire home/apt  157.783314\n",
       "Hotel room       259.116505\n",
       "Private room     113.627874\n",
       "Shared room       33.480000"
      ]
     },
     "execution_count": 49,
     "metadata": {},
     "output_type": "execute_result"
    }
   ],
   "source": [
    "df_listings1[['room_type','price']].groupby('room_type').mean() "
   ]
  },
  {
   "cell_type": "markdown",
   "id": "cc25f114",
   "metadata": {},
   "source": [
    "Yep, shared rooms are significantly cheaper <br>\n",
    "Hotel Room most expensive so I guess these really are proper hotel rooms<br>\n",
    "Price differential between Entire Home and Private Room isn't as big as I might have expected? Maybe single rooms are more likely to be listed during the Festival when prices are likely to be higher?<br>\n",
    "I can imagine aspiring comedians renting them during the Fringe, somewhere to stay while they wait to be \"discovered\"!<br>"
   ]
  },
  {
   "cell_type": "markdown",
   "id": "d616aebb",
   "metadata": {},
   "source": [
    "<b> What about pricing by neighbourhood?<b>"
   ]
  },
  {
   "cell_type": "code",
   "execution_count": 51,
   "id": "c07ea7cf",
   "metadata": {},
   "outputs": [
    {
     "data": {
      "text/html": [
       "<div>\n",
       "<style scoped>\n",
       "    .dataframe tbody tr th:only-of-type {\n",
       "        vertical-align: middle;\n",
       "    }\n",
       "\n",
       "    .dataframe tbody tr th {\n",
       "        vertical-align: top;\n",
       "    }\n",
       "\n",
       "    .dataframe thead th {\n",
       "        text-align: right;\n",
       "    }\n",
       "</style>\n",
       "<table border=\"1\" class=\"dataframe\">\n",
       "  <thead>\n",
       "    <tr style=\"text-align: right;\">\n",
       "      <th></th>\n",
       "      <th>price</th>\n",
       "    </tr>\n",
       "    <tr>\n",
       "      <th>neighbourhood</th>\n",
       "      <th></th>\n",
       "    </tr>\n",
       "  </thead>\n",
       "  <tbody>\n",
       "    <tr>\n",
       "      <th>Boswall and Pilton</th>\n",
       "      <td>671.896552</td>\n",
       "    </tr>\n",
       "    <tr>\n",
       "      <th>The Calders</th>\n",
       "      <td>474.500000</td>\n",
       "    </tr>\n",
       "    <tr>\n",
       "      <th>Broughton South</th>\n",
       "      <td>404.042683</td>\n",
       "    </tr>\n",
       "    <tr>\n",
       "      <th>South Gyle</th>\n",
       "      <td>351.400000</td>\n",
       "    </tr>\n",
       "    <tr>\n",
       "      <th>Western Harbour and Leith Docks</th>\n",
       "      <td>339.871795</td>\n",
       "    </tr>\n",
       "    <tr>\n",
       "      <th>New Town West</th>\n",
       "      <td>248.960000</td>\n",
       "    </tr>\n",
       "    <tr>\n",
       "      <th>Deans Village</th>\n",
       "      <td>220.778061</td>\n",
       "    </tr>\n",
       "    <tr>\n",
       "      <th>South Leith</th>\n",
       "      <td>194.373913</td>\n",
       "    </tr>\n",
       "    <tr>\n",
       "      <th>Dalmeny, Kirkliston and Newbridge</th>\n",
       "      <td>184.047619</td>\n",
       "    </tr>\n",
       "    <tr>\n",
       "      <th>West Pilton</th>\n",
       "      <td>173.450000</td>\n",
       "    </tr>\n",
       "  </tbody>\n",
       "</table>\n",
       "</div>"
      ],
      "text/plain": [
       "                                        price\n",
       "neighbourhood                                \n",
       "Boswall and Pilton                 671.896552\n",
       "The Calders                        474.500000\n",
       "Broughton South                    404.042683\n",
       "South Gyle                         351.400000\n",
       "Western Harbour and Leith Docks    339.871795\n",
       "New Town West                      248.960000\n",
       "Deans Village                      220.778061\n",
       "South Leith                        194.373913\n",
       "Dalmeny, Kirkliston and Newbridge  184.047619\n",
       "West Pilton                        173.450000"
      ]
     },
     "execution_count": 51,
     "metadata": {},
     "output_type": "execute_result"
    }
   ],
   "source": [
    "df_listings1[['neighbourhood','price']].groupby('neighbourhood').mean().sort_values(by='price', ascending=False).head(10)"
   ]
  },
  {
   "cell_type": "code",
   "execution_count": 52,
   "id": "0b50b186",
   "metadata": {},
   "outputs": [
    {
     "data": {
      "text/html": [
       "<div>\n",
       "<style scoped>\n",
       "    .dataframe tbody tr th:only-of-type {\n",
       "        vertical-align: middle;\n",
       "    }\n",
       "\n",
       "    .dataframe tbody tr th {\n",
       "        vertical-align: top;\n",
       "    }\n",
       "\n",
       "    .dataframe thead th {\n",
       "        text-align: right;\n",
       "    }\n",
       "</style>\n",
       "<table border=\"1\" class=\"dataframe\">\n",
       "  <thead>\n",
       "    <tr style=\"text-align: right;\">\n",
       "      <th></th>\n",
       "      <th>price</th>\n",
       "    </tr>\n",
       "    <tr>\n",
       "      <th>neighbourhood</th>\n",
       "      <th></th>\n",
       "    </tr>\n",
       "  </thead>\n",
       "  <tbody>\n",
       "    <tr>\n",
       "      <th>Oxgangs</th>\n",
       "      <td>49.909091</td>\n",
       "    </tr>\n",
       "    <tr>\n",
       "      <th>Granton South and Wardieburn</th>\n",
       "      <td>49.750000</td>\n",
       "    </tr>\n",
       "    <tr>\n",
       "      <th>Gracemount, Southhouse and Burdiehouse</th>\n",
       "      <td>48.642857</td>\n",
       "    </tr>\n",
       "    <tr>\n",
       "      <th>Muirhouse</th>\n",
       "      <td>48.066667</td>\n",
       "    </tr>\n",
       "    <tr>\n",
       "      <th>Mortonhall and Anwickhill</th>\n",
       "      <td>45.777778</td>\n",
       "    </tr>\n",
       "    <tr>\n",
       "      <th>Jewel, Brunstane and Newcraighall</th>\n",
       "      <td>45.375000</td>\n",
       "    </tr>\n",
       "    <tr>\n",
       "      <th>Comiston and Swanston</th>\n",
       "      <td>44.000000</td>\n",
       "    </tr>\n",
       "    <tr>\n",
       "      <th>Niddrie</th>\n",
       "      <td>42.222222</td>\n",
       "    </tr>\n",
       "    <tr>\n",
       "      <th>Hyvots and Gilmerton</th>\n",
       "      <td>34.142857</td>\n",
       "    </tr>\n",
       "    <tr>\n",
       "      <th>Clovenstone and Wester Hailes</th>\n",
       "      <td>29.000000</td>\n",
       "    </tr>\n",
       "  </tbody>\n",
       "</table>\n",
       "</div>"
      ],
      "text/plain": [
       "                                            price\n",
       "neighbourhood                                    \n",
       "Oxgangs                                 49.909091\n",
       "Granton South and Wardieburn            49.750000\n",
       "Gracemount, Southhouse and Burdiehouse  48.642857\n",
       "Muirhouse                               48.066667\n",
       "Mortonhall and Anwickhill               45.777778\n",
       "Jewel, Brunstane and Newcraighall       45.375000\n",
       "Comiston and Swanston                   44.000000\n",
       "Niddrie                                 42.222222\n",
       "Hyvots and Gilmerton                    34.142857\n",
       "Clovenstone and Wester Hailes           29.000000"
      ]
     },
     "execution_count": 52,
     "metadata": {},
     "output_type": "execute_result"
    }
   ],
   "source": [
    "df_listings1[['neighbourhood','price']].groupby('neighbourhood').mean().sort_values(by='price', ascending=False).tail(10)"
   ]
  },
  {
   "cell_type": "markdown",
   "id": "d03b82a3",
   "metadata": {},
   "source": [
    "More expensive areas are where you can rent a whole, big house as opposed to city centre flat?<br>\n",
    "Probably need to combine with room type<br>\n",
    "Plus some areas possibly have outliers in price skewing the mean or a low number of properties could also skew<br>"
   ]
  },
  {
   "cell_type": "markdown",
   "id": "2bda0588",
   "metadata": {},
   "source": [
    "### Data Understanding 1.4 - Exploratory Data Analysis on Calendar data"
   ]
  },
  {
   "cell_type": "markdown",
   "id": "70d75252",
   "metadata": {},
   "source": [
    "I'll look at one listing id on its own first"
   ]
  },
  {
   "cell_type": "code",
   "execution_count": 54,
   "id": "89e2a366",
   "metadata": {},
   "outputs": [
    {
     "data": {
      "text/html": [
       "<div>\n",
       "<style scoped>\n",
       "    .dataframe tbody tr th:only-of-type {\n",
       "        vertical-align: middle;\n",
       "    }\n",
       "\n",
       "    .dataframe tbody tr th {\n",
       "        vertical-align: top;\n",
       "    }\n",
       "\n",
       "    .dataframe thead th {\n",
       "        text-align: right;\n",
       "    }\n",
       "</style>\n",
       "<table border=\"1\" class=\"dataframe\">\n",
       "  <thead>\n",
       "    <tr style=\"text-align: right;\">\n",
       "      <th></th>\n",
       "      <th>listing_id</th>\n",
       "      <th>date</th>\n",
       "      <th>available</th>\n",
       "      <th>price</th>\n",
       "      <th>adjusted_price</th>\n",
       "      <th>minimum_nights</th>\n",
       "      <th>maximum_nights</th>\n",
       "    </tr>\n",
       "  </thead>\n",
       "  <tbody>\n",
       "    <tr>\n",
       "      <th>1</th>\n",
       "      <td>170756</td>\n",
       "      <td>2021-07-10</td>\n",
       "      <td>f</td>\n",
       "      <td>$53.00</td>\n",
       "      <td>$53.00</td>\n",
       "      <td>2</td>\n",
       "      <td>180</td>\n",
       "    </tr>\n",
       "    <tr>\n",
       "      <th>2</th>\n",
       "      <td>170756</td>\n",
       "      <td>2021-07-11</td>\n",
       "      <td>f</td>\n",
       "      <td>$54.00</td>\n",
       "      <td>$54.00</td>\n",
       "      <td>1</td>\n",
       "      <td>180</td>\n",
       "    </tr>\n",
       "    <tr>\n",
       "      <th>3</th>\n",
       "      <td>170756</td>\n",
       "      <td>2021-07-12</td>\n",
       "      <td>f</td>\n",
       "      <td>$53.00</td>\n",
       "      <td>$53.00</td>\n",
       "      <td>1</td>\n",
       "      <td>180</td>\n",
       "    </tr>\n",
       "    <tr>\n",
       "      <th>4</th>\n",
       "      <td>170756</td>\n",
       "      <td>2021-07-13</td>\n",
       "      <td>f</td>\n",
       "      <td>$53.00</td>\n",
       "      <td>$53.00</td>\n",
       "      <td>1</td>\n",
       "      <td>180</td>\n",
       "    </tr>\n",
       "    <tr>\n",
       "      <th>5</th>\n",
       "      <td>170756</td>\n",
       "      <td>2021-07-14</td>\n",
       "      <td>f</td>\n",
       "      <td>$53.00</td>\n",
       "      <td>$53.00</td>\n",
       "      <td>1</td>\n",
       "      <td>180</td>\n",
       "    </tr>\n",
       "    <tr>\n",
       "      <th>...</th>\n",
       "      <td>...</td>\n",
       "      <td>...</td>\n",
       "      <td>...</td>\n",
       "      <td>...</td>\n",
       "      <td>...</td>\n",
       "      <td>...</td>\n",
       "      <td>...</td>\n",
       "    </tr>\n",
       "    <tr>\n",
       "      <th>361</th>\n",
       "      <td>170756</td>\n",
       "      <td>2022-07-05</td>\n",
       "      <td>f</td>\n",
       "      <td>$50.00</td>\n",
       "      <td>$50.00</td>\n",
       "      <td>1</td>\n",
       "      <td>180</td>\n",
       "    </tr>\n",
       "    <tr>\n",
       "      <th>362</th>\n",
       "      <td>170756</td>\n",
       "      <td>2022-07-06</td>\n",
       "      <td>f</td>\n",
       "      <td>$50.00</td>\n",
       "      <td>$50.00</td>\n",
       "      <td>1</td>\n",
       "      <td>180</td>\n",
       "    </tr>\n",
       "    <tr>\n",
       "      <th>363</th>\n",
       "      <td>170756</td>\n",
       "      <td>2022-07-07</td>\n",
       "      <td>f</td>\n",
       "      <td>$50.00</td>\n",
       "      <td>$50.00</td>\n",
       "      <td>1</td>\n",
       "      <td>180</td>\n",
       "    </tr>\n",
       "    <tr>\n",
       "      <th>364</th>\n",
       "      <td>170756</td>\n",
       "      <td>2022-07-08</td>\n",
       "      <td>f</td>\n",
       "      <td>$50.00</td>\n",
       "      <td>$50.00</td>\n",
       "      <td>2</td>\n",
       "      <td>180</td>\n",
       "    </tr>\n",
       "    <tr>\n",
       "      <th>365</th>\n",
       "      <td>170756</td>\n",
       "      <td>2022-07-09</td>\n",
       "      <td>f</td>\n",
       "      <td>$50.00</td>\n",
       "      <td>$50.00</td>\n",
       "      <td>2</td>\n",
       "      <td>180</td>\n",
       "    </tr>\n",
       "  </tbody>\n",
       "</table>\n",
       "<p>365 rows × 7 columns</p>\n",
       "</div>"
      ],
      "text/plain": [
       "     listing_id        date available   price adjusted_price  minimum_nights  \\\n",
       "1        170756  2021-07-10         f  $53.00         $53.00               2   \n",
       "2        170756  2021-07-11         f  $54.00         $54.00               1   \n",
       "3        170756  2021-07-12         f  $53.00         $53.00               1   \n",
       "4        170756  2021-07-13         f  $53.00         $53.00               1   \n",
       "5        170756  2021-07-14         f  $53.00         $53.00               1   \n",
       "..          ...         ...       ...     ...            ...             ...   \n",
       "361      170756  2022-07-05         f  $50.00         $50.00               1   \n",
       "362      170756  2022-07-06         f  $50.00         $50.00               1   \n",
       "363      170756  2022-07-07         f  $50.00         $50.00               1   \n",
       "364      170756  2022-07-08         f  $50.00         $50.00               2   \n",
       "365      170756  2022-07-09         f  $50.00         $50.00               2   \n",
       "\n",
       "     maximum_nights  \n",
       "1               180  \n",
       "2               180  \n",
       "3               180  \n",
       "4               180  \n",
       "5               180  \n",
       "..              ...  \n",
       "361             180  \n",
       "362             180  \n",
       "363             180  \n",
       "364             180  \n",
       "365             180  \n",
       "\n",
       "[365 rows x 7 columns]"
      ]
     },
     "execution_count": 54,
     "metadata": {},
     "output_type": "execute_result"
    }
   ],
   "source": [
    "df_cal[df_cal['listing_id']==170756] "
   ]
  },
  {
   "cell_type": "markdown",
   "id": "a9338b54",
   "metadata": {},
   "source": [
    "Seems to suggest there are 365 rows per listing?"
   ]
  },
  {
   "cell_type": "code",
   "execution_count": 62,
   "id": "9c6d77f6",
   "metadata": {},
   "outputs": [
    {
     "data": {
      "text/plain": [
       "365.0"
      ]
     },
     "execution_count": 62,
     "metadata": {},
     "output_type": "execute_result"
    }
   ],
   "source": [
    "df_cal.shape[0]/df_listings1.shape[0] \n"
   ]
  },
  {
   "cell_type": "markdown",
   "id": "a75d9362",
   "metadata": {},
   "source": [
    "Looks likely as number of rows in calendar table divided by number of listings = 365"
   ]
  },
  {
   "cell_type": "markdown",
   "id": "1041eba5",
   "metadata": {},
   "source": [
    "Now let's investigate the \"available\" column"
   ]
  },
  {
   "cell_type": "code",
   "execution_count": 69,
   "id": "79f13a63",
   "metadata": {},
   "outputs": [
    {
     "data": {
      "text/html": [
       "<div>\n",
       "<style scoped>\n",
       "    .dataframe tbody tr th:only-of-type {\n",
       "        vertical-align: middle;\n",
       "    }\n",
       "\n",
       "    .dataframe tbody tr th {\n",
       "        vertical-align: top;\n",
       "    }\n",
       "\n",
       "    .dataframe thead th {\n",
       "        text-align: right;\n",
       "    }\n",
       "</style>\n",
       "<table border=\"1\" class=\"dataframe\">\n",
       "  <thead>\n",
       "    <tr style=\"text-align: right;\">\n",
       "      <th></th>\n",
       "      <th>listing_id</th>\n",
       "    </tr>\n",
       "    <tr>\n",
       "      <th>available</th>\n",
       "      <th></th>\n",
       "    </tr>\n",
       "  </thead>\n",
       "  <tbody>\n",
       "    <tr>\n",
       "      <th>f</th>\n",
       "      <td>1390516</td>\n",
       "    </tr>\n",
       "    <tr>\n",
       "      <th>t</th>\n",
       "      <td>1030894</td>\n",
       "    </tr>\n",
       "  </tbody>\n",
       "</table>\n",
       "</div>"
      ],
      "text/plain": [
       "           listing_id\n",
       "available            \n",
       "f             1390516\n",
       "t             1030894"
      ]
     },
     "execution_count": 69,
     "metadata": {},
     "output_type": "execute_result"
    }
   ],
   "source": [
    "df_cal[['available','listing_id']].groupby('available').count()"
   ]
  },
  {
   "cell_type": "markdown",
   "id": "59ca56f4",
   "metadata": {},
   "source": [
    "Looks like available is set to t when property is available\n",
    "I think based on data dictionary it is a combination of \"available\" will be set to f either if host doesn't want to rent on that date or someone else has already booked it"
   ]
  },
  {
   "cell_type": "code",
   "execution_count": 73,
   "id": "d00a4630",
   "metadata": {},
   "outputs": [
    {
     "data": {
      "text/plain": [
       "listing_id         int64\n",
       "date              object\n",
       "available         object\n",
       "price             object\n",
       "adjusted_price    object\n",
       "minimum_nights     int64\n",
       "maximum_nights     int64\n",
       "dtype: object"
      ]
     },
     "execution_count": 73,
     "metadata": {},
     "output_type": "execute_result"
    }
   ],
   "source": [
    "df_cal.dtypes "
   ]
  },
  {
   "cell_type": "markdown",
   "id": "0abe62b1",
   "metadata": {},
   "source": [
    "I want to use the calendar dataframe to look at the seasonality of pricing, but it looks like date and price are strings rather than the appropriate data types"
   ]
  },
  {
   "cell_type": "markdown",
   "id": "b66c8c9f",
   "metadata": {},
   "source": [
    "### Prepare Data 1.1 - format calendar data, add month field and group for analysis"
   ]
  },
  {
   "cell_type": "code",
   "execution_count": 4,
   "id": "5fb4bf97",
   "metadata": {},
   "outputs": [],
   "source": [
    "df_cal['date_fmt'] = pd.to_datetime(df_cal['date'],errors='coerce')# add formatted date field\n",
    "df_cal['price_fmt'] = pd.to_numeric(df_cal['price'].str.replace('$','').str.replace(',','')) # add formatted price field\n",
    "df_cal['month_num'] = df_cal['date_fmt'].dt.month # add month to group by\n",
    "seasonality = df_cal.groupby('month_num').agg({'listing_id':'count','price_fmt':'mean'})# group and get volumes and avg price by months\n",
    "seasonality.reset_index(drop=False, inplace=True)# reset index so it isn't set to month_num"
   ]
  },
  {
   "cell_type": "markdown",
   "id": "85e3c5b7",
   "metadata": {},
   "source": [
    "### Business Understanding 1.3 - Answering analysis questions on Calendar data"
   ]
  },
  {
   "cell_type": "markdown",
   "id": "ec5c71f6",
   "metadata": {},
   "source": [
    "<b> I am interested in seasonality in pricing, I think festival (August) and Hogmannay/New Year (December/January) should be most popular times to visit - are they also most expensive?<b>"
   ]
  },
  {
   "cell_type": "code",
   "execution_count": 16,
   "id": "7a290bb4",
   "metadata": {},
   "outputs": [
    {
     "data": {
      "image/png": "[encoded data removed]",
      "text/plain": [
       "<Figure size 1440x720 with 1 Axes>"
      ]
     },
     "metadata": {
      "needs_background": "light"
     },
     "output_type": "display_data"
    }
   ],
   "source": [
    "seasonality.plot(x='month_num', y='price_fmt', kind='bar',figsize=(20,10))# have increased fig size so it's easier to read\n",
    "plt.axhline(y=seasonality['price_fmt'].mean(),color='green')# add a line to show the average\n",
    "# add plot and axis titles\n",
    "plt.title('Average Price by Month')\n",
    "plt.xlabel('Month')\n",
    "plt.ylabel('Avg Price')\n",
    "plt.show() # display chart"
   ]
  },
  {
   "cell_type": "markdown",
   "id": "90a9f841",
   "metadata": {},
   "source": [
    "Pricing seasonality isn't following what I expected. As the festival is in August, I expected that month to have the highest demand and also highest pricing - however May is the peak."
   ]
  },
  {
   "cell_type": "markdown",
   "id": "d5345940",
   "metadata": {},
   "source": [
    "Let's crosstab room type against month and see if that gives a different picture."
   ]
  },
  {
   "cell_type": "markdown",
   "id": "9193de70",
   "metadata": {},
   "source": [
    "### Prepare Data 1.2 - merge room type with calendar data, group and pivot"
   ]
  },
  {
   "cell_type": "code",
   "execution_count": 5,
   "id": "62edbae8",
   "metadata": {},
   "outputs": [],
   "source": [
    "df_cal_merge = pd.merge(df_cal,df_listings1[['id','room_type']], left_on='listing_id', right_on='id', how='left') # merge on room type from the listings data frame\n",
    "df_cal_merge = df_cal_merge.drop('id', axis=1) # drop the second ID column, unneccessary repeated data\n",
    "agg_cal1 = df_cal_merge.groupby(['month_num', 'room_type'])['price_fmt'].mean().unstack().fillna(0) # group by month and room type, calculating the mean price for each combination\n",
    "# unstack() is a great way to \"pivot\" out the data to display it better\n",
    "# fillna(0) would set any instances to 0 if there was none of a particular room type in a particular month - turned out not to be necessary, even for low volume Shared room"
   ]
  },
  {
   "cell_type": "markdown",
   "id": "7ebe7b24",
   "metadata": {},
   "source": [
    "### Business Understanding 1.4 - Deeper Dive into Pricing Seasonality using both Calendar and Listings data"
   ]
  },
  {
   "cell_type": "code",
   "execution_count": 7,
   "id": "368eda8e",
   "metadata": {},
   "outputs": [
    {
     "data": {
      "text/html": [
       "<div>\n",
       "<style scoped>\n",
       "    .dataframe tbody tr th:only-of-type {\n",
       "        vertical-align: middle;\n",
       "    }\n",
       "\n",
       "    .dataframe tbody tr th {\n",
       "        vertical-align: top;\n",
       "    }\n",
       "\n",
       "    .dataframe thead th {\n",
       "        text-align: right;\n",
       "    }\n",
       "</style>\n",
       "<table border=\"1\" class=\"dataframe\">\n",
       "  <thead>\n",
       "    <tr style=\"text-align: right;\">\n",
       "      <th>room_type</th>\n",
       "      <th>Entire home/apt</th>\n",
       "      <th>Hotel room</th>\n",
       "      <th>Private room</th>\n",
       "      <th>Shared room</th>\n",
       "    </tr>\n",
       "    <tr>\n",
       "      <th>month_num</th>\n",
       "      <th></th>\n",
       "      <th></th>\n",
       "      <th></th>\n",
       "      <th></th>\n",
       "    </tr>\n",
       "  </thead>\n",
       "  <tbody>\n",
       "    <tr>\n",
       "      <th>1</th>\n",
       "      <td>190.267106</td>\n",
       "      <td>240.567178</td>\n",
       "      <td>188.395059</td>\n",
       "      <td>63.985806</td>\n",
       "    </tr>\n",
       "    <tr>\n",
       "      <th>2</th>\n",
       "      <td>260.211763</td>\n",
       "      <td>251.137656</td>\n",
       "      <td>190.858770</td>\n",
       "      <td>34.057143</td>\n",
       "    </tr>\n",
       "    <tr>\n",
       "      <th>3</th>\n",
       "      <td>260.261751</td>\n",
       "      <td>245.329471</td>\n",
       "      <td>190.503144</td>\n",
       "      <td>33.585806</td>\n",
       "    </tr>\n",
       "    <tr>\n",
       "      <th>4</th>\n",
       "      <td>266.437783</td>\n",
       "      <td>339.654369</td>\n",
       "      <td>189.252591</td>\n",
       "      <td>33.640000</td>\n",
       "    </tr>\n",
       "    <tr>\n",
       "      <th>5</th>\n",
       "      <td>272.920774</td>\n",
       "      <td>409.364861</td>\n",
       "      <td>192.705102</td>\n",
       "      <td>33.498065</td>\n",
       "    </tr>\n",
       "    <tr>\n",
       "      <th>6</th>\n",
       "      <td>276.786819</td>\n",
       "      <td>411.282848</td>\n",
       "      <td>179.227118</td>\n",
       "      <td>33.714667</td>\n",
       "    </tr>\n",
       "    <tr>\n",
       "      <th>7</th>\n",
       "      <td>203.129149</td>\n",
       "      <td>306.384278</td>\n",
       "      <td>128.477330</td>\n",
       "      <td>42.490323</td>\n",
       "    </tr>\n",
       "    <tr>\n",
       "      <th>8</th>\n",
       "      <td>206.062001</td>\n",
       "      <td>291.262136</td>\n",
       "      <td>124.547327</td>\n",
       "      <td>49.674839</td>\n",
       "    </tr>\n",
       "    <tr>\n",
       "      <th>9</th>\n",
       "      <td>174.099268</td>\n",
       "      <td>262.911974</td>\n",
       "      <td>165.032098</td>\n",
       "      <td>34.474667</td>\n",
       "    </tr>\n",
       "    <tr>\n",
       "      <th>10</th>\n",
       "      <td>180.790241</td>\n",
       "      <td>262.947698</td>\n",
       "      <td>181.335659</td>\n",
       "      <td>33.704516</td>\n",
       "    </tr>\n",
       "    <tr>\n",
       "      <th>11</th>\n",
       "      <td>188.193515</td>\n",
       "      <td>272.188026</td>\n",
       "      <td>185.945831</td>\n",
       "      <td>33.694667</td>\n",
       "    </tr>\n",
       "    <tr>\n",
       "      <th>12</th>\n",
       "      <td>201.051330</td>\n",
       "      <td>251.008143</td>\n",
       "      <td>189.161926</td>\n",
       "      <td>64.464516</td>\n",
       "    </tr>\n",
       "  </tbody>\n",
       "</table>\n",
       "</div>"
      ],
      "text/plain": [
       "room_type  Entire home/apt  Hotel room  Private room  Shared room\n",
       "month_num                                                        \n",
       "1               190.267106  240.567178    188.395059    63.985806\n",
       "2               260.211763  251.137656    190.858770    34.057143\n",
       "3               260.261751  245.329471    190.503144    33.585806\n",
       "4               266.437783  339.654369    189.252591    33.640000\n",
       "5               272.920774  409.364861    192.705102    33.498065\n",
       "6               276.786819  411.282848    179.227118    33.714667\n",
       "7               203.129149  306.384278    128.477330    42.490323\n",
       "8               206.062001  291.262136    124.547327    49.674839\n",
       "9               174.099268  262.911974    165.032098    34.474667\n",
       "10              180.790241  262.947698    181.335659    33.704516\n",
       "11              188.193515  272.188026    185.945831    33.694667\n",
       "12              201.051330  251.008143    189.161926    64.464516"
      ]
     },
     "execution_count": 7,
     "metadata": {},
     "output_type": "execute_result"
    }
   ],
   "source": [
    "# cross tab of room type vs avg price by month\n",
    "agg_cal1"
   ]
  },
  {
   "cell_type": "code",
   "execution_count": 18,
   "id": "2a52566c",
   "metadata": {},
   "outputs": [],
   "source": [
    "agg_cal1.to_csv('crosstab.csv', index=True)"
   ]
  },
  {
   "cell_type": "code",
   "execution_count": 19,
   "id": "a43f8a99",
   "metadata": {},
   "outputs": [
    {
     "data": {
      "text/plain": [
       "room_type\n",
       "Entire home/apt    223.018474\n",
       "Hotel room         295.413007\n",
       "Private room       175.273029\n",
       "Shared room         41.048877\n",
       "Name: price_fmt, dtype: float64"
      ]
     },
     "execution_count": 19,
     "metadata": {},
     "output_type": "execute_result"
    }
   ],
   "source": [
    "df_cal_merge.groupby(['room_type'])['price_fmt'].mean() # compare to mean by room_type"
   ]
  },
  {
   "cell_type": "markdown",
   "id": "9b242a69",
   "metadata": {},
   "source": [
    "Looks like price seasonality varies by room type?\n",
    "Shared room is how I expected, peaks in December/January for Christmas/Hogmannay and a peak in August for festival. This room type also has the most extreme variances in price, with January and December 1.5 times the overall average.\n",
    "February-June is peak price time for Entire home/apt.\n",
    "Hotel peaks in May/June.\n",
    "Private room is fairly consistently priced, with a dip in July/August (i.e. festival time)"
   ]
  },
  {
   "cell_type": "markdown",
   "id": "8005bdce",
   "metadata": {},
   "source": [
    "# Let's try building a price prediction model\n",
    "\n",
    "If I had a property in Edinburgh, could my model help me decide how to price it if I wanted to list on AirBnB?"
   ]
  },
  {
   "cell_type": "markdown",
   "id": "b70ba9af",
   "metadata": {},
   "source": [
    "Let's use the data in the listings dataframe to try and do this - although I need to remove some fields that don't make sense to include first.<br>\n",
    "The columns which are categorical need to be converted into binary flags using get_dummies. <br>\n",
    "I'll use a Regressor Decision Tree as the target variable is continous (price).<br>\n",
    "And split into test/train (30/70) so I can see how it performs on unseen data and also check for overfit. <br>"
   ]
  },
  {
   "cell_type": "markdown",
   "id": "589f3476",
   "metadata": {},
   "source": [
    "### Prepare Data 1.3 - get the data ready for a baseline model"
   ]
  },
  {
   "cell_type": "code",
   "execution_count": null,
   "id": "b4e83df5",
   "metadata": {},
   "outputs": [],
   "source": [
    "# remove ids, empty column(neighbourhood group), and things we don't know before we list (review info)\n",
    "df_model_data = df_listings1.drop(['id', 'name','host_id','host_name','neighbourhood_group','number_of_reviews','last_review','reviews_per_month'],axis=1) \n",
    "# use get dummies to turn text columns into binary flags\n",
    "df_model_data = pd.get_dummies(df_model_data,columns=['neighbourhood','room_type'], drop_first=False)\n",
    "y = df_model_data.pop('price') # pop out price to be the target variable\n",
    "X = df_model_data # the rest of the columns are the predicitive features\n",
    "X_train, X_test, y_train, y_test = train_test_split(X, y, test_size=0.30, random_state=42)# split into train and test datasets, 70/30 split, set random state for reproducability"
   ]
  },
  {
   "cell_type": "markdown",
   "id": "be595cd8",
   "metadata": {},
   "source": [
    "### Data Modelling 1.1 - baseline model"
   ]
  },
  {
   "cell_type": "code",
   "execution_count": 18,
   "id": "6b65837d",
   "metadata": {},
   "outputs": [],
   "source": [
    "dtreeR = DecisionTreeRegressor() #instantiate decision tree\n",
    "dtreeR.fit(X_train,y_train)# fit it on the training data\n",
    "pred_R = dtreeR.predict(X_test) # predict on test data to see how well it works on unseen data\n",
    "pred_tR = dtreeR.predict(X_train)# how does it predict on the training data, we can use this to check for overfit"
   ]
  },
  {
   "cell_type": "markdown",
   "id": "3b7eca09",
   "metadata": {},
   "source": [
    "### Evaluate Results 1.1 - baseline model"
   ]
  },
  {
   "cell_type": "code",
   "execution_count": 20,
   "id": "f93dd0b5",
   "metadata": {},
   "outputs": [],
   "source": [
    "# model metrics\n",
    "# test data\n",
    "mseR = mean_squared_error(y_test,pred_R)\n",
    "maeR = mean_absolute_error(y_test, pred_R)\n",
    "medaeR = median_absolute_error(y_test, pred_R)\n",
    "mapeR = mape(y_test, pred_R)\n",
    "\n",
    "#training data\n",
    "mseRt = mean_squared_error(y_train,pred_tR)\n",
    "maeRt = mean_absolute_error(y_train, pred_tR)\n",
    "medaeRt = median_absolute_error(y_train, pred_tR)\n",
    "mapeRt = mape(y_train, pred_tR)"
   ]
  },
  {
   "cell_type": "code",
   "execution_count": 36,
   "id": "86073615",
   "metadata": {},
   "outputs": [
    {
     "name": "stdout",
     "output_type": "stream",
     "text": [
      "For the test data, mean squared error is 450227.3982923154 and mean absolute error is 100.92616775489704 and median absolute error is 30.0 and mean absolute percentage error is 88.25145438425946\n"
     ]
    }
   ],
   "source": [
    "print(\"For the test data, mean squared error is \" + str(mseR)+ \" and mean absolute error is \"+ str(maeR)+ \" and median absolute error is \" +str(medaeR)+\" and mean absolute percentage error is \"+str(mapeR))"
   ]
  },
  {
   "cell_type": "code",
   "execution_count": 37,
   "id": "13bfea02",
   "metadata": {},
   "outputs": [
    {
     "name": "stdout",
     "output_type": "stream",
     "text": [
      "For the training data, mean squared error is 2.092881757484385 and mean absolute error is 0.0757053629119104 and median absolute error is 0.0 and mean absolute percentage error is 0.0622321008245733\n"
     ]
    }
   ],
   "source": [
    "print(\"For the training data, mean squared error is \" + str(mseRt)+ \" and mean absolute error is \"+ str(maeRt)+ \" and median absolute error is \" +str(medaeRt)+\" and mean absolute percentage error is \"+str(mapeRt))"
   ]
  },
  {
   "cell_type": "markdown",
   "id": "c9ffe091",
   "metadata": {},
   "source": [
    "The mean absolute percentage error on the test data is pretty high and it is very low on the training data - it is over fitted to the training data. Also there is a big difference between the mean absolute error and the median absolute error on the test data - I think this suggests there are outliers skewing it?"
   ]
  },
  {
   "cell_type": "markdown",
   "id": "f54d460e",
   "metadata": {},
   "source": [
    "Let's look at the feature importances too."
   ]
  },
  {
   "cell_type": "code",
   "execution_count": 38,
   "id": "cdc3044c",
   "metadata": {},
   "outputs": [
    {
     "data": {
      "text/html": [
       "<div>\n",
       "<style scoped>\n",
       "    .dataframe tbody tr th:only-of-type {\n",
       "        vertical-align: middle;\n",
       "    }\n",
       "\n",
       "    .dataframe tbody tr th {\n",
       "        vertical-align: top;\n",
       "    }\n",
       "\n",
       "    .dataframe thead th {\n",
       "        text-align: right;\n",
       "    }\n",
       "</style>\n",
       "<table border=\"1\" class=\"dataframe\">\n",
       "  <thead>\n",
       "    <tr style=\"text-align: right;\">\n",
       "      <th></th>\n",
       "      <th>feature</th>\n",
       "      <th>importance</th>\n",
       "    </tr>\n",
       "  </thead>\n",
       "  <tbody>\n",
       "    <tr>\n",
       "      <th>0</th>\n",
       "      <td>latitude</td>\n",
       "      <td>0.659012</td>\n",
       "    </tr>\n",
       "    <tr>\n",
       "      <th>3</th>\n",
       "      <td>calculated_host_listings_count</td>\n",
       "      <td>0.121740</td>\n",
       "    </tr>\n",
       "    <tr>\n",
       "      <th>4</th>\n",
       "      <td>availability_365</td>\n",
       "      <td>0.119621</td>\n",
       "    </tr>\n",
       "    <tr>\n",
       "      <th>1</th>\n",
       "      <td>longitude</td>\n",
       "      <td>0.035771</td>\n",
       "    </tr>\n",
       "    <tr>\n",
       "      <th>87</th>\n",
       "      <td>neighbourhood_Old Town, Princes Street and Lei...</td>\n",
       "      <td>0.017265</td>\n",
       "    </tr>\n",
       "    <tr>\n",
       "      <th>18</th>\n",
       "      <td>neighbourhood_Broughton South</td>\n",
       "      <td>0.010730</td>\n",
       "    </tr>\n",
       "    <tr>\n",
       "      <th>15</th>\n",
       "      <td>neighbourhood_Boswall and Pilton</td>\n",
       "      <td>0.010064</td>\n",
       "    </tr>\n",
       "    <tr>\n",
       "      <th>2</th>\n",
       "      <td>minimum_nights</td>\n",
       "      <td>0.005330</td>\n",
       "    </tr>\n",
       "    <tr>\n",
       "      <th>118</th>\n",
       "      <td>room_type_Private room</td>\n",
       "      <td>0.002906</td>\n",
       "    </tr>\n",
       "    <tr>\n",
       "      <th>58</th>\n",
       "      <td>neighbourhood_Hillside and Calton Hill</td>\n",
       "      <td>0.002433</td>\n",
       "    </tr>\n",
       "    <tr>\n",
       "      <th>11</th>\n",
       "      <td>neighbourhood_Blackford, West Mains and Mayfie...</td>\n",
       "      <td>0.002192</td>\n",
       "    </tr>\n",
       "    <tr>\n",
       "      <th>117</th>\n",
       "      <td>room_type_Hotel room</td>\n",
       "      <td>0.001602</td>\n",
       "    </tr>\n",
       "    <tr>\n",
       "      <th>41</th>\n",
       "      <td>neighbourhood_Deans Village</td>\n",
       "      <td>0.001448</td>\n",
       "    </tr>\n",
       "    <tr>\n",
       "      <th>81</th>\n",
       "      <td>neighbourhood_New Town East and Gayfield</td>\n",
       "      <td>0.001156</td>\n",
       "    </tr>\n",
       "    <tr>\n",
       "      <th>71</th>\n",
       "      <td>neighbourhood_Meadows and Southside</td>\n",
       "      <td>0.001057</td>\n",
       "    </tr>\n",
       "    <tr>\n",
       "      <th>91</th>\n",
       "      <td>neighbourhood_Polwarth</td>\n",
       "      <td>0.001015</td>\n",
       "    </tr>\n",
       "    <tr>\n",
       "      <th>110</th>\n",
       "      <td>neighbourhood_Tollcross</td>\n",
       "      <td>0.000957</td>\n",
       "    </tr>\n",
       "    <tr>\n",
       "      <th>113</th>\n",
       "      <td>neighbourhood_West Pilton</td>\n",
       "      <td>0.000723</td>\n",
       "    </tr>\n",
       "    <tr>\n",
       "      <th>102</th>\n",
       "      <td>neighbourhood_South Gyle</td>\n",
       "      <td>0.000486</td>\n",
       "    </tr>\n",
       "    <tr>\n",
       "      <th>20</th>\n",
       "      <td>neighbourhood_Canongate, Southside and Dumbied...</td>\n",
       "      <td>0.000396</td>\n",
       "    </tr>\n",
       "  </tbody>\n",
       "</table>\n",
       "</div>"
      ],
      "text/plain": [
       "                                               feature  importance\n",
       "0                                             latitude    0.659012\n",
       "3                       calculated_host_listings_count    0.121740\n",
       "4                                     availability_365    0.119621\n",
       "1                                            longitude    0.035771\n",
       "87   neighbourhood_Old Town, Princes Street and Lei...    0.017265\n",
       "18                       neighbourhood_Broughton South    0.010730\n",
       "15                    neighbourhood_Boswall and Pilton    0.010064\n",
       "2                                       minimum_nights    0.005330\n",
       "118                             room_type_Private room    0.002906\n",
       "58              neighbourhood_Hillside and Calton Hill    0.002433\n",
       "11   neighbourhood_Blackford, West Mains and Mayfie...    0.002192\n",
       "117                               room_type_Hotel room    0.001602\n",
       "41                         neighbourhood_Deans Village    0.001448\n",
       "81            neighbourhood_New Town East and Gayfield    0.001156\n",
       "71                 neighbourhood_Meadows and Southside    0.001057\n",
       "91                              neighbourhood_Polwarth    0.001015\n",
       "110                            neighbourhood_Tollcross    0.000957\n",
       "113                          neighbourhood_West Pilton    0.000723\n",
       "102                           neighbourhood_South Gyle    0.000486\n",
       "20   neighbourhood_Canongate, Southside and Dumbied...    0.000396"
      ]
     },
     "execution_count": 38,
     "metadata": {},
     "output_type": "execute_result"
    }
   ],
   "source": [
    "importances = pd.Series(dtreeR.feature_importances_, name='importance')\n",
    "cols = pd.Series(X_test.columns, name='feature')\n",
    "df_importance = pd.merge(cols, importances, right_index = True,left_index = True)\n",
    "df_importance.sort_values(by=['importance'], ascending=False).head(20)"
   ]
  },
  {
   "cell_type": "markdown",
   "id": "342b69d3",
   "metadata": {},
   "source": [
    "Are there outliers in the price?"
   ]
  },
  {
   "cell_type": "code",
   "execution_count": 39,
   "id": "790aa4e4",
   "metadata": {},
   "outputs": [
    {
     "data": {
      "text/html": [
       "<div>\n",
       "<style scoped>\n",
       "    .dataframe tbody tr th:only-of-type {\n",
       "        vertical-align: middle;\n",
       "    }\n",
       "\n",
       "    .dataframe tbody tr th {\n",
       "        vertical-align: top;\n",
       "    }\n",
       "\n",
       "    .dataframe thead th {\n",
       "        text-align: right;\n",
       "    }\n",
       "</style>\n",
       "<table border=\"1\" class=\"dataframe\">\n",
       "  <thead>\n",
       "    <tr style=\"text-align: right;\">\n",
       "      <th></th>\n",
       "      <th>id</th>\n",
       "      <th>name</th>\n",
       "      <th>host_id</th>\n",
       "      <th>host_name</th>\n",
       "      <th>neighbourhood_group</th>\n",
       "      <th>neighbourhood</th>\n",
       "      <th>latitude</th>\n",
       "      <th>longitude</th>\n",
       "      <th>room_type</th>\n",
       "      <th>price</th>\n",
       "      <th>minimum_nights</th>\n",
       "      <th>number_of_reviews</th>\n",
       "      <th>last_review</th>\n",
       "      <th>reviews_per_month</th>\n",
       "      <th>calculated_host_listings_count</th>\n",
       "      <th>availability_365</th>\n",
       "    </tr>\n",
       "  </thead>\n",
       "  <tbody>\n",
       "    <tr>\n",
       "      <th>2992</th>\n",
       "      <td>24058119</td>\n",
       "      <td>Beautiful Edinburgh Cottage with Parking</td>\n",
       "      <td>11362736</td>\n",
       "      <td>Sonia</td>\n",
       "      <td>NaN</td>\n",
       "      <td>Boswall and Pilton</td>\n",
       "      <td>55.97903</td>\n",
       "      <td>-3.21763</td>\n",
       "      <td>Entire home/apt</td>\n",
       "      <td>17626</td>\n",
       "      <td>1</td>\n",
       "      <td>18</td>\n",
       "      <td>2019-01-04</td>\n",
       "      <td>0.49</td>\n",
       "      <td>15</td>\n",
       "      <td>348</td>\n",
       "    </tr>\n",
       "    <tr>\n",
       "      <th>2702</th>\n",
       "      <td>21837493</td>\n",
       "      <td>Large Penthouse With Amazing City Views</td>\n",
       "      <td>159226863</td>\n",
       "      <td>Shauna</td>\n",
       "      <td>NaN</td>\n",
       "      <td>Western Harbour and Leith Docks</td>\n",
       "      <td>55.98496</td>\n",
       "      <td>-3.18876</td>\n",
       "      <td>Entire home/apt</td>\n",
       "      <td>17626</td>\n",
       "      <td>1</td>\n",
       "      <td>0</td>\n",
       "      <td>NaN</td>\n",
       "      <td>NaN</td>\n",
       "      <td>1</td>\n",
       "      <td>365</td>\n",
       "    </tr>\n",
       "    <tr>\n",
       "      <th>6234</th>\n",
       "      <td>49492800</td>\n",
       "      <td>9/2 Albany Street, EDINBURGH</td>\n",
       "      <td>23701935</td>\n",
       "      <td>Sykes Holiday Cottages</td>\n",
       "      <td>NaN</td>\n",
       "      <td>Old Town, Princes Street and Leith Street</td>\n",
       "      <td>55.95633</td>\n",
       "      <td>-3.19158</td>\n",
       "      <td>Entire home/apt</td>\n",
       "      <td>17626</td>\n",
       "      <td>2</td>\n",
       "      <td>0</td>\n",
       "      <td>NaN</td>\n",
       "      <td>NaN</td>\n",
       "      <td>1</td>\n",
       "      <td>365</td>\n",
       "    </tr>\n",
       "    <tr>\n",
       "      <th>3660</th>\n",
       "      <td>28508638</td>\n",
       "      <td>Spacious apartment, Cumberland Street</td>\n",
       "      <td>11362736</td>\n",
       "      <td>Sonia</td>\n",
       "      <td>NaN</td>\n",
       "      <td>New Town West</td>\n",
       "      <td>55.95787</td>\n",
       "      <td>-3.20314</td>\n",
       "      <td>Entire home/apt</td>\n",
       "      <td>17626</td>\n",
       "      <td>1</td>\n",
       "      <td>15</td>\n",
       "      <td>2019-08-24</td>\n",
       "      <td>0.60</td>\n",
       "      <td>15</td>\n",
       "      <td>363</td>\n",
       "    </tr>\n",
       "    <tr>\n",
       "      <th>5223</th>\n",
       "      <td>40104817</td>\n",
       "      <td>Stunning three bedroom apartment</td>\n",
       "      <td>22185623</td>\n",
       "      <td>Dougie</td>\n",
       "      <td>NaN</td>\n",
       "      <td>Deans Village</td>\n",
       "      <td>55.95181</td>\n",
       "      <td>-3.20535</td>\n",
       "      <td>Entire home/apt</td>\n",
       "      <td>14515</td>\n",
       "      <td>1</td>\n",
       "      <td>0</td>\n",
       "      <td>NaN</td>\n",
       "      <td>NaN</td>\n",
       "      <td>1</td>\n",
       "      <td>247</td>\n",
       "    </tr>\n",
       "  </tbody>\n",
       "</table>\n",
       "</div>"
      ],
      "text/plain": [
       "            id                                      name    host_id  \\\n",
       "2992  24058119  Beautiful Edinburgh Cottage with Parking   11362736   \n",
       "2702  21837493   Large Penthouse With Amazing City Views  159226863   \n",
       "6234  49492800              9/2 Albany Street, EDINBURGH   23701935   \n",
       "3660  28508638     Spacious apartment, Cumberland Street   11362736   \n",
       "5223  40104817          Stunning three bedroom apartment   22185623   \n",
       "\n",
       "                   host_name  neighbourhood_group  \\\n",
       "2992                   Sonia                  NaN   \n",
       "2702                  Shauna                  NaN   \n",
       "6234  Sykes Holiday Cottages                  NaN   \n",
       "3660                   Sonia                  NaN   \n",
       "5223                  Dougie                  NaN   \n",
       "\n",
       "                                  neighbourhood  latitude  longitude  \\\n",
       "2992                         Boswall and Pilton  55.97903   -3.21763   \n",
       "2702            Western Harbour and Leith Docks  55.98496   -3.18876   \n",
       "6234  Old Town, Princes Street and Leith Street  55.95633   -3.19158   \n",
       "3660                              New Town West  55.95787   -3.20314   \n",
       "5223                              Deans Village  55.95181   -3.20535   \n",
       "\n",
       "            room_type  price  minimum_nights  number_of_reviews last_review  \\\n",
       "2992  Entire home/apt  17626               1                 18  2019-01-04   \n",
       "2702  Entire home/apt  17626               1                  0         NaN   \n",
       "6234  Entire home/apt  17626               2                  0         NaN   \n",
       "3660  Entire home/apt  17626               1                 15  2019-08-24   \n",
       "5223  Entire home/apt  14515               1                  0         NaN   \n",
       "\n",
       "      reviews_per_month  calculated_host_listings_count  availability_365  \n",
       "2992               0.49                              15               348  \n",
       "2702                NaN                               1               365  \n",
       "6234                NaN                               1               365  \n",
       "3660               0.60                              15               363  \n",
       "5223                NaN                               1               247  "
      ]
     },
     "execution_count": 39,
     "metadata": {},
     "output_type": "execute_result"
    }
   ],
   "source": [
    "df_listings1.sort_values(by=['price'], ascending=False).head(5)"
   ]
  },
  {
   "cell_type": "markdown",
   "id": "27ce55e2",
   "metadata": {},
   "source": [
    "Wow - £17,626 for one night that seems a bit high!\n",
    "\n",
    "If I get the listing_url then I can look it up..."
   ]
  },
  {
   "cell_type": "code",
   "execution_count": 84,
   "id": "876f21b9",
   "metadata": {},
   "outputs": [
    {
     "data": {
      "text/html": [
       "<div>\n",
       "<style scoped>\n",
       "    .dataframe tbody tr th:only-of-type {\n",
       "        vertical-align: middle;\n",
       "    }\n",
       "\n",
       "    .dataframe tbody tr th {\n",
       "        vertical-align: top;\n",
       "    }\n",
       "\n",
       "    .dataframe thead th {\n",
       "        text-align: right;\n",
       "    }\n",
       "</style>\n",
       "<table border=\"1\" class=\"dataframe\">\n",
       "  <thead>\n",
       "    <tr style=\"text-align: right;\">\n",
       "      <th></th>\n",
       "      <th>id</th>\n",
       "      <th>listing_url</th>\n",
       "      <th>scrape_id</th>\n",
       "      <th>last_scraped</th>\n",
       "      <th>name</th>\n",
       "      <th>description</th>\n",
       "      <th>neighborhood_overview</th>\n",
       "      <th>picture_url</th>\n",
       "      <th>host_id</th>\n",
       "      <th>host_url</th>\n",
       "      <th>...</th>\n",
       "      <th>review_scores_communication</th>\n",
       "      <th>review_scores_location</th>\n",
       "      <th>review_scores_value</th>\n",
       "      <th>license</th>\n",
       "      <th>instant_bookable</th>\n",
       "      <th>calculated_host_listings_count</th>\n",
       "      <th>calculated_host_listings_count_entire_homes</th>\n",
       "      <th>calculated_host_listings_count_private_rooms</th>\n",
       "      <th>calculated_host_listings_count_shared_rooms</th>\n",
       "      <th>reviews_per_month</th>\n",
       "    </tr>\n",
       "  </thead>\n",
       "  <tbody>\n",
       "    <tr>\n",
       "      <th>2992</th>\n",
       "      <td>24058119</td>\n",
       "      <td>https://www.airbnb.com/rooms/24058119</td>\n",
       "      <td>20210710030835</td>\n",
       "      <td>2021-07-10</td>\n",
       "      <td>Beautiful Edinburgh Cottage with Parking</td>\n",
       "      <td>Beautiful cottage in the city of Edinburgh wit...</td>\n",
       "      <td>NaN</td>\n",
       "      <td>https://a0.muscache.com/pictures/5afc6b7b-673d...</td>\n",
       "      <td>11362736</td>\n",
       "      <td>https://www.airbnb.com/users/show/11362736</td>\n",
       "      <td>...</td>\n",
       "      <td>5.0</td>\n",
       "      <td>4.78</td>\n",
       "      <td>4.89</td>\n",
       "      <td>NaN</td>\n",
       "      <td>t</td>\n",
       "      <td>15</td>\n",
       "      <td>15</td>\n",
       "      <td>0</td>\n",
       "      <td>0</td>\n",
       "      <td>0.49</td>\n",
       "    </tr>\n",
       "  </tbody>\n",
       "</table>\n",
       "<p>1 rows × 74 columns</p>\n",
       "</div>"
      ],
      "text/plain": [
       "            id                            listing_url       scrape_id  \\\n",
       "2992  24058119  https://www.airbnb.com/rooms/24058119  20210710030835   \n",
       "\n",
       "     last_scraped                                      name  \\\n",
       "2992   2021-07-10  Beautiful Edinburgh Cottage with Parking   \n",
       "\n",
       "                                            description neighborhood_overview  \\\n",
       "2992  Beautiful cottage in the city of Edinburgh wit...                   NaN   \n",
       "\n",
       "                                            picture_url   host_id  \\\n",
       "2992  https://a0.muscache.com/pictures/5afc6b7b-673d...  11362736   \n",
       "\n",
       "                                        host_url  ...  \\\n",
       "2992  https://www.airbnb.com/users/show/11362736  ...   \n",
       "\n",
       "     review_scores_communication review_scores_location review_scores_value  \\\n",
       "2992                         5.0                   4.78                4.89   \n",
       "\n",
       "     license instant_bookable calculated_host_listings_count  \\\n",
       "2992     NaN                t                             15   \n",
       "\n",
       "     calculated_host_listings_count_entire_homes  \\\n",
       "2992                                          15   \n",
       "\n",
       "     calculated_host_listings_count_private_rooms  \\\n",
       "2992                                            0   \n",
       "\n",
       "     calculated_host_listings_count_shared_rooms reviews_per_month  \n",
       "2992                                           0              0.49  \n",
       "\n",
       "[1 rows x 74 columns]"
      ]
     },
     "execution_count": 84,
     "metadata": {},
     "output_type": "execute_result"
    }
   ],
   "source": [
    "df_listings[df_listings['id']==24058119]"
   ]
  },
  {
   "cell_type": "markdown",
   "id": "dfbc67c7",
   "metadata": {},
   "source": [
    "This is a two bedroom cottage, it's lovely but not £17,626 per night lovely. I think I should remove the outliers and re-run the model."
   ]
  },
  {
   "cell_type": "markdown",
   "id": "501932ec",
   "metadata": {},
   "source": [
    "### Prepare Data 1.4 - removing price outliers"
   ]
  },
  {
   "cell_type": "markdown",
   "id": "2c584e15",
   "metadata": {},
   "source": [
    "The most common ways of removing outliers are either using z-score or interquartile ranges - I'll look at both and decide which makes most sense."
   ]
  },
  {
   "cell_type": "code",
   "execution_count": 21,
   "id": "32c488de",
   "metadata": {},
   "outputs": [
    {
     "data": {
      "text/plain": [
       "count     6634.000000\n",
       "mean       144.704402\n",
       "std        523.968883\n",
       "min          0.000000\n",
       "25%         55.000000\n",
       "50%         85.000000\n",
       "75%        133.000000\n",
       "max      17626.000000\n",
       "Name: price, dtype: float64"
      ]
     },
     "execution_count": 21,
     "metadata": {},
     "output_type": "execute_result"
    }
   ],
   "source": [
    "df_listings1['price'].describe()"
   ]
  },
  {
   "cell_type": "code",
   "execution_count": 42,
   "id": "947da059",
   "metadata": {},
   "outputs": [],
   "source": [
    "z = np.abs(stats.zscore(df_listings1['price'])) # define z score"
   ]
  },
  {
   "cell_type": "code",
   "execution_count": 43,
   "id": "950e3afc",
   "metadata": {},
   "outputs": [
    {
     "name": "stdout",
     "output_type": "stream",
     "text": [
      "There are 36 listings with z-score >=3\n"
     ]
    }
   ],
   "source": [
    "print(\"There are \"+str(sum(z>=3))+\" listings with z-score >=3\")"
   ]
  },
  {
   "cell_type": "code",
   "execution_count": 46,
   "id": "007be19c",
   "metadata": {},
   "outputs": [
    {
     "data": {
      "text/plain": [
       "6234    17626\n",
       "2702    17626\n",
       "2992    17626\n",
       "3660    17626\n",
       "5223    14515\n",
       "4819     6000\n",
       "5746     3200\n",
       "5736     3200\n",
       "5737     3200\n",
       "5738     3200\n",
       "5951     3200\n",
       "5743     3200\n",
       "5744     3200\n",
       "5745     3200\n",
       "5739     3200\n",
       "5747     3200\n",
       "5761     3200\n",
       "5950     3200\n",
       "5939     3200\n",
       "5933     3200\n",
       "5935     3200\n",
       "5936     3200\n",
       "5937     3200\n",
       "5938     3200\n",
       "5755     3200\n",
       "3708     3000\n",
       "3813     3000\n",
       "3424     2900\n",
       "3399     2900\n",
       "3388     2900\n",
       "5793     2500\n",
       "2172     2500\n",
       "312      2270\n",
       "660      1999\n",
       "5821     1998\n",
       "4318     1850\n",
       "Name: price, dtype: int64"
      ]
     },
     "execution_count": 46,
     "metadata": {},
     "output_type": "execute_result"
    }
   ],
   "source": [
    "df_listings1['price'][(z>=3)].sort_values(ascending=False) # look at records"
   ]
  },
  {
   "cell_type": "code",
   "execution_count": 47,
   "id": "7b6343a0",
   "metadata": {},
   "outputs": [],
   "source": [
    "Q1 = df_listings1['price'].quantile(q=.25)\n",
    "Q3 = df_listings1['price'].quantile(q=.75)\n",
    "IQR = Q3 - Q1\n",
    "upper = Q3+(1.5*IQR)\n"
   ]
  },
  {
   "cell_type": "code",
   "execution_count": 49,
   "id": "1b094573",
   "metadata": {},
   "outputs": [
    {
     "name": "stdout",
     "output_type": "stream",
     "text": [
      "There are 501 listings greater than Q3 plus 1.5 IQR\n"
     ]
    }
   ],
   "source": [
    "print(\"There are \"+str(sum(df_listings1['price']>upper))+\" listings greater than Q3 plus 1.5 IQR\")"
   ]
  },
  {
   "cell_type": "code",
   "execution_count": 58,
   "id": "b44ba637",
   "metadata": {},
   "outputs": [
    {
     "data": {
      "image/png": "[encoded data removed]",
      "text/plain": [
       "<Figure size 720x648 with 1 Axes>"
      ]
     },
     "metadata": {
      "needs_background": "light"
     },
     "output_type": "display_data"
    }
   ],
   "source": [
    "price = df_listings1['price']\n",
    "price.plot(kind='hist', figsize=(10,9), bins=250)\n",
    "plt.show()"
   ]
  },
  {
   "cell_type": "code",
   "execution_count": 55,
   "id": "6e68ca2c",
   "metadata": {},
   "outputs": [
    {
     "data": {
      "text/plain": [
       "0.07552004823635816"
      ]
     },
     "execution_count": 55,
     "metadata": {},
     "output_type": "execute_result"
    }
   ],
   "source": [
    "sum(df_listings1['price']>upper)/df_listings1.shape[0]"
   ]
  },
  {
   "cell_type": "code",
   "execution_count": 59,
   "id": "6fe109cf",
   "metadata": {},
   "outputs": [
    {
     "data": {
      "text/plain": [
       "0.005426590292432921"
      ]
     },
     "execution_count": 59,
     "metadata": {},
     "output_type": "execute_result"
    }
   ],
   "source": [
    "sum(z>=3)/df_listings1.shape[0]"
   ]
  },
  {
   "cell_type": "markdown",
   "id": "b244b5b7",
   "metadata": {},
   "source": [
    "Using interquartile range to remove outliers would strip out nearly 8% of records, seems a bit extreme?\n",
    "z-score approach is less than 1% - try this first as seems more reasonable"
   ]
  },
  {
   "cell_type": "code",
   "execution_count": 51,
   "id": "c5372015",
   "metadata": {},
   "outputs": [],
   "source": [
    "df_listings_nouts = df_listings1[(z<3)]"
   ]
  },
  {
   "cell_type": "code",
   "execution_count": 52,
   "id": "bb133d3f",
   "metadata": {},
   "outputs": [
    {
     "data": {
      "text/plain": [
       "(6598, 16)"
      ]
     },
     "execution_count": 52,
     "metadata": {},
     "output_type": "execute_result"
    }
   ],
   "source": [
    "df_listings_nouts.shape"
   ]
  },
  {
   "cell_type": "markdown",
   "id": "9b5afb73",
   "metadata": {},
   "source": [
    "6634 - 36 = 6598 looks right"
   ]
  },
  {
   "cell_type": "markdown",
   "id": "a6df3dda",
   "metadata": {},
   "source": [
    "Now I'll run the model again without the outliers."
   ]
  },
  {
   "cell_type": "markdown",
   "id": "55dd30c4",
   "metadata": {},
   "source": [
    "### Prepare Data 1.5 - preparing for second model iteration, outliers removed"
   ]
  },
  {
   "cell_type": "code",
   "execution_count": null,
   "id": "99218821",
   "metadata": {},
   "outputs": [],
   "source": [
    "# remove ids, empty column, and things we don't know before we list - this time from the dataset with outliers removed - df_listings_nouts\n",
    "df_model_data = df_listings_nouts.drop(['id', 'name','host_id','host_name','neighbourhood_group','number_of_reviews','last_review','reviews_per_month'],axis=1) \n",
    "# use get dummies to turn text columns into binary flags\n",
    "df_model_data = pd.get_dummies(df_model_data,columns=['neighbourhood','room_type'], drop_first=False)\n",
    "y1 = df_model_data.pop('price') # pop out price to be the target variable\n",
    "X1 = df_model_data # the rest of the columns are the predicitive features\n",
    "X1_train, X1_test, y1_train, y1_test = train_test_split(X1, y1, test_size=0.30, random_state=42)# split into train and test datasets, 70/30 split, set random state for reproducability"
   ]
  },
  {
   "cell_type": "markdown",
   "id": "d0907207",
   "metadata": {},
   "source": [
    "### Data Modelling 1.2 - second iteration, no price outliers included"
   ]
  },
  {
   "cell_type": "code",
   "execution_count": 53,
   "id": "f245419b",
   "metadata": {},
   "outputs": [],
   "source": [
    "dtree1 = DecisionTreeRegressor() #instantiate decision tree\n",
    "dtree1.fit(X1_train,y1_train)# fit it on the training data\n",
    "pred_2 = dtree1.predict(X1_test) # predict on test data to see how well it works on unseen data\n",
    "pred_2t = dtree1.predict(X1_train) # predict on train data to check for overfit"
   ]
  },
  {
   "cell_type": "markdown",
   "id": "3a4b45b4",
   "metadata": {},
   "source": [
    "### Evaluate Results 1.2 - second iteration, no price outliers included"
   ]
  },
  {
   "cell_type": "code",
   "execution_count": 54,
   "id": "8a72d1e2",
   "metadata": {},
   "outputs": [],
   "source": [
    "# model metrics\n",
    "# test data\n",
    "mse1 = mean_squared_error(y1_test,pred_2)\n",
    "mae1 = mean_absolute_error(y1_test, pred_2)\n",
    "medae1 = median_absolute_error(y1_test, pred_2)\n",
    "mape1 = mape(y1_test, pred_2)\n",
    "\n",
    "#train data\n",
    "mse1t = mean_squared_error(y1_train,pred_2t)\n",
    "mae1t = mean_absolute_error(y1_train, pred_2t)\n",
    "medae1t = median_absolute_error(y1_train, pred_2t)\n",
    "mape1t = mape(y1_train, pred_2t)"
   ]
  },
  {
   "cell_type": "code",
   "execution_count": 55,
   "id": "78f5246e",
   "metadata": {},
   "outputs": [
    {
     "name": "stdout",
     "output_type": "stream",
     "text": [
      "For the test data, mean squared error is 16868.147895622897 and mean absolute error is 63.256565656565655 and median absolute error is 30.0 and mean absolute percentage error is 69.70577388107088\n"
     ]
    }
   ],
   "source": [
    "print(\"For the test data, mean squared error is \" + str(mse1)+ \" and mean absolute error is \"+ str(mae1)+ \" and median absolute error is \" +str(medae1)+\" and mean absolute percentage error is \"+str(mape1))"
   ]
  },
  {
   "cell_type": "code",
   "execution_count": 56,
   "id": "6f400e33",
   "metadata": {},
   "outputs": [
    {
     "name": "stdout",
     "output_type": "stream",
     "text": [
      "For the test data, mean squared error is 1.7152086040132812 and mean absolute error is 0.04366969828208459 and median absolute error is 0.0 and mean absolute percentage error is 0.028520478206553814\n"
     ]
    }
   ],
   "source": [
    "print(\"For the test data, mean squared error is \" + str(mse1t)+ \" and mean absolute error is \"+ str(mae1t)+ \" and median absolute error is \" +str(medae1t)+\" and mean absolute percentage error is \"+str(mape1t))"
   ]
  },
  {
   "cell_type": "markdown",
   "id": "a64a7466",
   "metadata": {},
   "source": [
    "Now it is performing better on the test data, and the mean absolute error and median absolute error are a bit closer together. But it is still overfitting to the training data. Let's consider feature importances and whether I should reduce the number of features."
   ]
  },
  {
   "cell_type": "code",
   "execution_count": 57,
   "id": "025a3421",
   "metadata": {},
   "outputs": [
    {
     "data": {
      "text/html": [
       "<div>\n",
       "<style scoped>\n",
       "    .dataframe tbody tr th:only-of-type {\n",
       "        vertical-align: middle;\n",
       "    }\n",
       "\n",
       "    .dataframe tbody tr th {\n",
       "        vertical-align: top;\n",
       "    }\n",
       "\n",
       "    .dataframe thead th {\n",
       "        text-align: right;\n",
       "    }\n",
       "</style>\n",
       "<table border=\"1\" class=\"dataframe\">\n",
       "  <thead>\n",
       "    <tr style=\"text-align: right;\">\n",
       "      <th></th>\n",
       "      <th>feature</th>\n",
       "      <th>importance</th>\n",
       "    </tr>\n",
       "  </thead>\n",
       "  <tbody>\n",
       "    <tr>\n",
       "      <th>4</th>\n",
       "      <td>availability_365</td>\n",
       "      <td>0.222594</td>\n",
       "    </tr>\n",
       "    <tr>\n",
       "      <th>1</th>\n",
       "      <td>longitude</td>\n",
       "      <td>0.136124</td>\n",
       "    </tr>\n",
       "    <tr>\n",
       "      <th>3</th>\n",
       "      <td>calculated_host_listings_count</td>\n",
       "      <td>0.119881</td>\n",
       "    </tr>\n",
       "    <tr>\n",
       "      <th>0</th>\n",
       "      <td>latitude</td>\n",
       "      <td>0.116721</td>\n",
       "    </tr>\n",
       "    <tr>\n",
       "      <th>117</th>\n",
       "      <td>room_type_Hotel room</td>\n",
       "      <td>0.059477</td>\n",
       "    </tr>\n",
       "    <tr>\n",
       "      <th>2</th>\n",
       "      <td>minimum_nights</td>\n",
       "      <td>0.056940</td>\n",
       "    </tr>\n",
       "    <tr>\n",
       "      <th>118</th>\n",
       "      <td>room_type_Private room</td>\n",
       "      <td>0.052732</td>\n",
       "    </tr>\n",
       "    <tr>\n",
       "      <th>103</th>\n",
       "      <td>neighbourhood_South Leith</td>\n",
       "      <td>0.042195</td>\n",
       "    </tr>\n",
       "    <tr>\n",
       "      <th>106</th>\n",
       "      <td>neighbourhood_The Calders</td>\n",
       "      <td>0.040405</td>\n",
       "    </tr>\n",
       "    <tr>\n",
       "      <th>41</th>\n",
       "      <td>neighbourhood_Deans Village</td>\n",
       "      <td>0.013402</td>\n",
       "    </tr>\n",
       "    <tr>\n",
       "      <th>11</th>\n",
       "      <td>neighbourhood_Blackford, West Mains and Mayfie...</td>\n",
       "      <td>0.011718</td>\n",
       "    </tr>\n",
       "    <tr>\n",
       "      <th>79</th>\n",
       "      <td>neighbourhood_Murrayburn and Wester Hailes North</td>\n",
       "      <td>0.009729</td>\n",
       "    </tr>\n",
       "    <tr>\n",
       "      <th>102</th>\n",
       "      <td>neighbourhood_South Gyle</td>\n",
       "      <td>0.009485</td>\n",
       "    </tr>\n",
       "    <tr>\n",
       "      <th>67</th>\n",
       "      <td>neighbourhood_Longstone and Saughton</td>\n",
       "      <td>0.008302</td>\n",
       "    </tr>\n",
       "    <tr>\n",
       "      <th>18</th>\n",
       "      <td>neighbourhood_Broughton South</td>\n",
       "      <td>0.006654</td>\n",
       "    </tr>\n",
       "    <tr>\n",
       "      <th>115</th>\n",
       "      <td>neighbourhood_Willowbrae and Duddingston Village</td>\n",
       "      <td>0.006421</td>\n",
       "    </tr>\n",
       "    <tr>\n",
       "      <th>82</th>\n",
       "      <td>neighbourhood_New Town West</td>\n",
       "      <td>0.006175</td>\n",
       "    </tr>\n",
       "    <tr>\n",
       "      <th>71</th>\n",
       "      <td>neighbourhood_Meadows and Southside</td>\n",
       "      <td>0.005926</td>\n",
       "    </tr>\n",
       "    <tr>\n",
       "      <th>39</th>\n",
       "      <td>neighbourhood_Dalmeny, Kirkliston and Newbridge</td>\n",
       "      <td>0.004631</td>\n",
       "    </tr>\n",
       "    <tr>\n",
       "      <th>40</th>\n",
       "      <td>neighbourhood_Dalry and Fountainbridge</td>\n",
       "      <td>0.004622</td>\n",
       "    </tr>\n",
       "  </tbody>\n",
       "</table>\n",
       "</div>"
      ],
      "text/plain": [
       "                                               feature  importance\n",
       "4                                     availability_365    0.222594\n",
       "1                                            longitude    0.136124\n",
       "3                       calculated_host_listings_count    0.119881\n",
       "0                                             latitude    0.116721\n",
       "117                               room_type_Hotel room    0.059477\n",
       "2                                       minimum_nights    0.056940\n",
       "118                             room_type_Private room    0.052732\n",
       "103                          neighbourhood_South Leith    0.042195\n",
       "106                          neighbourhood_The Calders    0.040405\n",
       "41                         neighbourhood_Deans Village    0.013402\n",
       "11   neighbourhood_Blackford, West Mains and Mayfie...    0.011718\n",
       "79    neighbourhood_Murrayburn and Wester Hailes North    0.009729\n",
       "102                           neighbourhood_South Gyle    0.009485\n",
       "67                neighbourhood_Longstone and Saughton    0.008302\n",
       "18                       neighbourhood_Broughton South    0.006654\n",
       "115   neighbourhood_Willowbrae and Duddingston Village    0.006421\n",
       "82                         neighbourhood_New Town West    0.006175\n",
       "71                 neighbourhood_Meadows and Southside    0.005926\n",
       "39     neighbourhood_Dalmeny, Kirkliston and Newbridge    0.004631\n",
       "40              neighbourhood_Dalry and Fountainbridge    0.004622"
      ]
     },
     "execution_count": 57,
     "metadata": {},
     "output_type": "execute_result"
    }
   ],
   "source": [
    "importances1 = pd.Series(dtree1.feature_importances_, name='importance')\n",
    "cols1 = pd.Series(X1_test.columns, name='feature')\n",
    "df_importance1 = pd.merge(cols1, importances1, right_index = True,left_index = True)\n",
    "df_importance1.sort_values(by=['importance'], ascending=False).head(20)"
   ]
  },
  {
   "cell_type": "markdown",
   "id": "3c0e8a38",
   "metadata": {},
   "source": [
    "Do lattitude and longitude really make sense as features? And some of the neighbourhoods might be quite infrequently found, so maybe that is skewing things? <br>\n",
    "Let's try a really cut down version with just these columns:<br>\n",
    "- minimum_nights'<br>\n",
    "- 'calculated_host_listings_count'<br>\n",
    "- 'availability_365'<br>\n",
    "- 'room_type_Entire home/apt'<br>\n",
    "- 'room_type_Hotel room'<br>\n",
    "- 'room_type_Private room'<br>\n",
    "- 'room_type_Shared room'<br>"
   ]
  },
  {
   "cell_type": "markdown",
   "id": "5193f70b",
   "metadata": {},
   "source": [
    "### Prepare Data 1.6 - preparing for 3rd model iteration, restricted features"
   ]
  },
  {
   "cell_type": "code",
   "execution_count": null,
   "id": "4b86957f",
   "metadata": {},
   "outputs": [],
   "source": [
    "# remove ids, empty column, and things we don't know before we list - using no outliers dataset and restricting the final fields by excluding latitude, longitude and neighbourhood\n",
    "df_model_data = df_listings_nouts.drop(['id', 'name','host_id','host_name','neighbourhood_group','number_of_reviews','last_review','reviews_per_month','latitude', 'longitude','neighbourhood'],axis=1) \n",
    "# use get dummies to turn text columns into binary flags\n",
    "df_model_data = pd.get_dummies(df_model_data,columns=['room_type'], drop_first=False) # just for room type this time\n",
    "y2 = df_model_data.pop('price') # pop out price to be the target variable\n",
    "X2 = df_model_data # the rest of the columns are the predicitive features\n",
    "X2_train, X2_test, y2_train, y2_test = train_test_split(X2, y2, test_size=0.30, random_state=42)# split into train and test datasets, 70/30 split, set random state for reproducability"
   ]
  },
  {
   "cell_type": "markdown",
   "id": "ec645f1b",
   "metadata": {},
   "source": [
    "### Data Modelling 1.3 - 3rd iteration, no outliers and restricted features"
   ]
  },
  {
   "cell_type": "code",
   "execution_count": 63,
   "id": "accc0c9d",
   "metadata": {},
   "outputs": [],
   "source": [
    "dtree2 = DecisionTreeRegressor() #instantiate decision tree\n",
    "dtree2.fit(X2_train,y2_train)# fit it on the training data\n",
    "pred_3 = dtree2.predict(X2_test) # predict on test data to see how well it works on unseen data\n",
    "pred_train_2 = dtree2.predict(X2_train)"
   ]
  },
  {
   "cell_type": "markdown",
   "id": "2068e3cc",
   "metadata": {},
   "source": [
    "### Evaluate Results 1.3 - 3rd iterations, no outlieers and restricted features"
   ]
  },
  {
   "cell_type": "code",
   "execution_count": 64,
   "id": "6cea422a",
   "metadata": {},
   "outputs": [],
   "source": [
    "mape3 = mape(y2_test, pred_3)\n",
    "mape4 = mape(y2_train, pred_train_2)"
   ]
  },
  {
   "cell_type": "code",
   "execution_count": 65,
   "id": "f029e6d6",
   "metadata": {},
   "outputs": [
    {
     "data": {
      "text/plain": [
       "65.66407899767005"
      ]
     },
     "execution_count": 65,
     "metadata": {},
     "output_type": "execute_result"
    }
   ],
   "source": [
    "mape3"
   ]
  },
  {
   "cell_type": "code",
   "execution_count": 66,
   "id": "4db90190",
   "metadata": {},
   "outputs": [
    {
     "data": {
      "text/plain": [
       "22.844864722121763"
      ]
     },
     "execution_count": 66,
     "metadata": {},
     "output_type": "execute_result"
    }
   ],
   "source": [
    "mape4"
   ]
  },
  {
   "cell_type": "markdown",
   "id": "e4833dab",
   "metadata": {},
   "source": [
    "That's better, performs better on test data and not so over-fitted to training data\n"
   ]
  },
  {
   "cell_type": "markdown",
   "id": "7e693ddd",
   "metadata": {},
   "source": [
    "How much does the model think I should charge for an entire home, available all year round, minimum booking 1 night?"
   ]
  },
  {
   "cell_type": "code",
   "execution_count": 67,
   "id": "ce8d5bf9",
   "metadata": {},
   "outputs": [
    {
     "data": {
      "text/plain": [
       "array([699.66666667])"
      ]
     },
     "execution_count": 67,
     "metadata": {},
     "output_type": "execute_result"
    }
   ],
   "source": [
    "dtree2.predict(np.array([1,1,365,1,0,0,0]).reshape(1, -1))"
   ]
  },
  {
   "cell_type": "markdown",
   "id": "1d0361d9",
   "metadata": {},
   "source": [
    "What about a shared room, owned by someone with multiple listings, minimum booking 2 nights, available 180/365?"
   ]
  },
  {
   "cell_type": "code",
   "execution_count": 69,
   "id": "bd3fdec9",
   "metadata": {},
   "outputs": [
    {
     "data": {
      "text/plain": [
       "array([35.])"
      ]
     },
     "execution_count": 69,
     "metadata": {},
     "output_type": "execute_result"
    }
   ],
   "source": [
    "dtree2.predict(np.array([2,5,180,0,0,0,1]).reshape(1, -1))"
   ]
  },
  {
   "cell_type": "markdown",
   "id": "f86ed998",
   "metadata": {},
   "source": [
    "# Conclusion\n",
    "\n",
    "I think we are missing something which is probably one of the most important drivers of price - how many people does each listing sleep? Something suitable for a family of four would command a higher price than a place for a single person.\n",
    "\n",
    "There is lots more I could do but I think I will leave it here. If I had more time I would look at new features and probably some model tuning, for example tree depth."
   ]
  },
  {
   "cell_type": "code",
   "execution_count": null,
   "id": "62103a18",
   "metadata": {},
   "outputs": [],
   "source": []
  }
 ],
 "metadata": {
  "kernelspec": {
   "display_name": "Python 3",
   "language": "python",
   "name": "python3"
  },
  "language_info": {
   "codemirror_mode": {
    "name": "ipython",
    "version": 3
   },
   "file_extension": ".py",
   "mimetype": "text/x-python",
   "name": "python",
   "nbconvert_exporter": "python",
   "pygments_lexer": "ipython3",
   "version": "3.6.12"
  }
 },
 "nbformat": 4,
 "nbformat_minor": 5
}
